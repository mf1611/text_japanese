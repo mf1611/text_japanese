{
 "cells": [
  {
   "cell_type": "code",
   "execution_count": 2,
   "id": "incorporated-lecture",
   "metadata": {},
   "outputs": [],
   "source": [
    "import os\n",
    "from glob import glob\n",
    "import pandas as pd\n",
    "import numpy as np\n",
    "import matplotlib.pyplot as plt\n",
    "import japanize_matplotlib\n",
    "import seaborn as sns\n",
    "\n",
    "from wordcloud import WordCloud\n",
    "import MeCab"
   ]
  },
  {
   "cell_type": "code",
   "execution_count": 3,
   "id": "norwegian-diesel",
   "metadata": {
    "scrolled": true
   },
   "outputs": [
    {
     "name": "stdout",
     "output_type": "stream",
     "text": [
      "(262256, 15)\n"
     ]
    },
    {
     "data": {
      "text/html": [
       "<div>\n",
       "<style scoped>\n",
       "    .dataframe tbody tr th:only-of-type {\n",
       "        vertical-align: middle;\n",
       "    }\n",
       "\n",
       "    .dataframe tbody tr th {\n",
       "        vertical-align: top;\n",
       "    }\n",
       "\n",
       "    .dataframe thead th {\n",
       "        text-align: right;\n",
       "    }\n",
       "</style>\n",
       "<table border=\"1\" class=\"dataframe\">\n",
       "  <thead>\n",
       "    <tr style=\"text-align: right;\">\n",
       "      <th></th>\n",
       "      <th>marketplace</th>\n",
       "      <th>customer_id</th>\n",
       "      <th>review_id</th>\n",
       "      <th>product_id</th>\n",
       "      <th>product_parent</th>\n",
       "      <th>product_title</th>\n",
       "      <th>product_category</th>\n",
       "      <th>star_rating</th>\n",
       "      <th>helpful_votes</th>\n",
       "      <th>total_votes</th>\n",
       "      <th>vine</th>\n",
       "      <th>verified_purchase</th>\n",
       "      <th>review_headline</th>\n",
       "      <th>review_body</th>\n",
       "      <th>review_date</th>\n",
       "    </tr>\n",
       "  </thead>\n",
       "  <tbody>\n",
       "    <tr>\n",
       "      <th>0</th>\n",
       "      <td>JP</td>\n",
       "      <td>65317</td>\n",
       "      <td>R33RSUD4ZTRKT7</td>\n",
       "      <td>B000001GBJ</td>\n",
       "      <td>957145596</td>\n",
       "      <td>SONGS FROM A SECRET GARDE</td>\n",
       "      <td>Music</td>\n",
       "      <td>1</td>\n",
       "      <td>1</td>\n",
       "      <td>15</td>\n",
       "      <td>N</td>\n",
       "      <td>Y</td>\n",
       "      <td>残念ながら…</td>\n",
       "      <td>残念ながら…趣味ではありませんでした。ケルト音楽の範疇にも幅があるのですね…</td>\n",
       "      <td>2012-12-05</td>\n",
       "    </tr>\n",
       "    <tr>\n",
       "      <th>1</th>\n",
       "      <td>JP</td>\n",
       "      <td>65317</td>\n",
       "      <td>R2U1VB8GPZBBEH</td>\n",
       "      <td>B000YPWBQ2</td>\n",
       "      <td>904244932</td>\n",
       "      <td>鏡の中の鏡‾ペルト作品集(SACD)(Arvo Part:Spiegel im Spiegel)</td>\n",
       "      <td>Music</td>\n",
       "      <td>1</td>\n",
       "      <td>4</td>\n",
       "      <td>20</td>\n",
       "      <td>N</td>\n",
       "      <td>Y</td>\n",
       "      <td>残念ながら…</td>\n",
       "      <td>残念ながら…趣味ではありませんでした。正直退屈…眠気も起きない…</td>\n",
       "      <td>2012-12-05</td>\n",
       "    </tr>\n",
       "    <tr>\n",
       "      <th>2</th>\n",
       "      <td>JP</td>\n",
       "      <td>65696</td>\n",
       "      <td>R1IBRCJPPGWVJW</td>\n",
       "      <td>B0002E5O9G</td>\n",
       "      <td>108978277</td>\n",
       "      <td>Les Miserables 10th Anniversary Concert</td>\n",
       "      <td>Music</td>\n",
       "      <td>5</td>\n",
       "      <td>2</td>\n",
       "      <td>3</td>\n",
       "      <td>N</td>\n",
       "      <td>Y</td>\n",
       "      <td>ドリームキャスト</td>\n",
       "      <td>素晴らしいパフォーマンス。ミュージカル映画版の物足りない歌唱とは違います。</td>\n",
       "      <td>2013-03-02</td>\n",
       "    </tr>\n",
       "    <tr>\n",
       "      <th>3</th>\n",
       "      <td>JP</td>\n",
       "      <td>67162</td>\n",
       "      <td>RL02CW5XLYONU</td>\n",
       "      <td>B00004SRJ5</td>\n",
       "      <td>606528497</td>\n",
       "      <td>It Takes a Nation of Millions to Hold Us Back</td>\n",
       "      <td>Music</td>\n",
       "      <td>5</td>\n",
       "      <td>6</td>\n",
       "      <td>9</td>\n",
       "      <td>N</td>\n",
       "      <td>Y</td>\n",
       "      <td>やっぱりマスト</td>\n",
       "      <td>専門的な事を言わずにお勧めレコメを書きたいのですが、文才が無いので無理でした。ヒップホップが...</td>\n",
       "      <td>2013-08-11</td>\n",
       "    </tr>\n",
       "    <tr>\n",
       "      <th>4</th>\n",
       "      <td>JP</td>\n",
       "      <td>67701</td>\n",
       "      <td>R2LA2SS3HU3A3L</td>\n",
       "      <td>B0093H8H8I</td>\n",
       "      <td>509738390</td>\n",
       "      <td>Intel CPU Core I3-3225 3.3GHz 3MBキャッシュ LGA1155...</td>\n",
       "      <td>PC</td>\n",
       "      <td>4</td>\n",
       "      <td>2</td>\n",
       "      <td>4</td>\n",
       "      <td>N</td>\n",
       "      <td>Y</td>\n",
       "      <td>コスパ的には十分</td>\n",
       "      <td>今までの環境（Core2 Duo E4600)に比べれば十分に快適になりました。&lt;br /&gt;...</td>\n",
       "      <td>2013-02-10</td>\n",
       "    </tr>\n",
       "  </tbody>\n",
       "</table>\n",
       "</div>"
      ],
      "text/plain": [
       "  marketplace  customer_id       review_id  product_id  product_parent  \\\n",
       "0          JP        65317  R33RSUD4ZTRKT7  B000001GBJ       957145596   \n",
       "1          JP        65317  R2U1VB8GPZBBEH  B000YPWBQ2       904244932   \n",
       "2          JP        65696  R1IBRCJPPGWVJW  B0002E5O9G       108978277   \n",
       "3          JP        67162   RL02CW5XLYONU  B00004SRJ5       606528497   \n",
       "4          JP        67701  R2LA2SS3HU3A3L  B0093H8H8I       509738390   \n",
       "\n",
       "                                       product_title product_category  \\\n",
       "0                          SONGS FROM A SECRET GARDE            Music   \n",
       "1   鏡の中の鏡‾ペルト作品集(SACD)(Arvo Part:Spiegel im Spiegel)            Music   \n",
       "2            Les Miserables 10th Anniversary Concert            Music   \n",
       "3      It Takes a Nation of Millions to Hold Us Back            Music   \n",
       "4  Intel CPU Core I3-3225 3.3GHz 3MBキャッシュ LGA1155...               PC   \n",
       "\n",
       "   star_rating  helpful_votes  total_votes vine verified_purchase  \\\n",
       "0            1              1           15    N                 Y   \n",
       "1            1              4           20    N                 Y   \n",
       "2            5              2            3    N                 Y   \n",
       "3            5              6            9    N                 Y   \n",
       "4            4              2            4    N                 Y   \n",
       "\n",
       "  review_headline                                        review_body  \\\n",
       "0          残念ながら…             残念ながら…趣味ではありませんでした。ケルト音楽の範疇にも幅があるのですね…   \n",
       "1          残念ながら…                   残念ながら…趣味ではありませんでした。正直退屈…眠気も起きない…   \n",
       "2        ドリームキャスト              素晴らしいパフォーマンス。ミュージカル映画版の物足りない歌唱とは違います。   \n",
       "3         やっぱりマスト  専門的な事を言わずにお勧めレコメを書きたいのですが、文才が無いので無理でした。ヒップホップが...   \n",
       "4        コスパ的には十分  今までの環境（Core2 Duo E4600)に比べれば十分に快適になりました。<br />...   \n",
       "\n",
       "  review_date  \n",
       "0  2012-12-05  \n",
       "1  2012-12-05  \n",
       "2  2013-03-02  \n",
       "3  2013-08-11  \n",
       "4  2013-02-10  "
      ]
     },
     "execution_count": 3,
     "metadata": {},
     "output_type": "execute_result"
    }
   ],
   "source": [
    "# wikipediaの日本語版から作られたコーパス\n",
    "# https://s3-ap-northeast-1.amazonaws.com/dev.tech-sketch.jp/chakki/public/ja.text8.zip\n",
    "df = pd.read_csv('../input/amazon_reviews_multilingual_JP_v1_00.tsv', sep='\\t')\n",
    "print(df.shape)\n",
    "df.head()"
   ]
  },
  {
   "cell_type": "markdown",
   "id": "polar-spray",
   "metadata": {},
   "source": [
    "# tokenizer作成\n",
    "- 品詞を限定して、分かち書きした、単語のリストを返す"
   ]
  },
  {
   "cell_type": "code",
   "execution_count": 4,
   "id": "bored-jones",
   "metadata": {},
   "outputs": [],
   "source": [
    "tagger = MeCab.Tagger(\"-Ochasen -d /usr/local/lib/mecab/dic/mecab-ipadic-neologd\")\n",
    "def tokenize(text, target=['名詞', '動詞']):\n",
    "        # 連結リスト\n",
    "        node = tagger.parseToNode(text)\n",
    "\n",
    "        result = []\n",
    "        while node:\n",
    "            hinshi = node.feature.split(\",\")[0]\n",
    "            if hinshi in target:\n",
    "                if node.feature.split(\",\")[6]!='*':\n",
    "                    result.append(node.feature.split(\",\")[6])\n",
    "                else:\n",
    "                    result.append(node.surface)  # 原形で取得しようとする場合、英字だと表示されずに「*」となることがあるため、その場合はsurfaceを取る\n",
    "            node = node.next\n",
    "\n",
    "        return result"
   ]
  },
  {
   "cell_type": "code",
   "execution_count": 5,
   "id": "union-ground",
   "metadata": {},
   "outputs": [
    {
     "name": "stdout",
     "output_type": "stream",
     "text": [
      "私\tワタシ\t私\t名詞-代名詞-一般\t\t\n",
      "は\tハ\tは\t助詞-係助詞\t\t\n",
      "今日\tキョウ\t今日\t名詞-副詞可能\t\t\n",
      "パン\tパン\tパン\t名詞-一般\t\t\n",
      "を\tヲ\tを\t助詞-格助詞-一般\t\t\n",
      "食べ\tタベ\t食べる\t動詞-自立\t一段\t連用形\n",
      "まし\tマシ\tます\t助動詞\t特殊・マス\t連用形\n",
      "た\tタ\tた\t助動詞\t特殊・タ\t基本形\n",
      "。\t。\t。\t記号-句点\t\t\n",
      "EOS\n",
      "\n"
     ]
    }
   ],
   "source": [
    "# 確認\n",
    "text = '私は今日パンを食べました。'\n",
    "print(tagger.parse(text))"
   ]
  },
  {
   "cell_type": "code",
   "execution_count": 6,
   "id": "protective-legislature",
   "metadata": {},
   "outputs": [
    {
     "data": {
      "text/plain": [
       "['私', '今日', 'パン', '食べる']"
      ]
     },
     "execution_count": 6,
     "metadata": {},
     "output_type": "execute_result"
    }
   ],
   "source": [
    "tokenize(text)"
   ]
  },
  {
   "cell_type": "markdown",
   "id": "champion-prompt",
   "metadata": {},
   "source": [
    "## N-gram"
   ]
  },
  {
   "cell_type": "code",
   "execution_count": 7,
   "id": "electrical-monday",
   "metadata": {},
   "outputs": [
    {
     "data": {
      "text/plain": [
       "['私', '今日', 'パン', '食べる']"
      ]
     },
     "execution_count": 7,
     "metadata": {},
     "output_type": "execute_result"
    }
   ],
   "source": [
    "tokens = tokenize(text)\n",
    "tokens"
   ]
  },
  {
   "cell_type": "code",
   "execution_count": 8,
   "id": "blocked-niger",
   "metadata": {},
   "outputs": [
    {
     "data": {
      "text/plain": [
       "[('私', '今日'), ('今日', 'パン'), ('パン', '食べる')]"
      ]
     },
     "execution_count": 8,
     "metadata": {},
     "output_type": "execute_result"
    }
   ],
   "source": [
    "# bi-gram\n",
    "# 先頭から終端の1つ前までのリストと、先頭の次の語から終端までのリストを、zipでまとめて、リスト化する\n",
    "list(zip(tokens[:-1], tokens[1:]))"
   ]
  },
  {
   "cell_type": "code",
   "execution_count": 9,
   "id": "opponent-parish",
   "metadata": {},
   "outputs": [
    {
     "data": {
      "text/plain": [
       "[('私', '今日', 'パン'), ('今日', 'パン', '食べる')]"
      ]
     },
     "execution_count": 9,
     "metadata": {},
     "output_type": "execute_result"
    }
   ],
   "source": [
    "# tri-gram\n",
    "# 先頭から終端の2つ前までのリストと、先頭の次の語から終端の1つ手前までのリスト、\n",
    "# それと、先頭の2つ先の語から終端までのリストを、zipでまとめて、リスト化する\n",
    "list(zip(tokens[:-2], tokens[1:-1], tokens[2:]))"
   ]
  },
  {
   "cell_type": "markdown",
   "id": "liable-sleeping",
   "metadata": {},
   "source": [
    "### 上記を、N-gramに拡張する"
   ]
  },
  {
   "cell_type": "markdown",
   "id": "complicated-stand",
   "metadata": {},
   "source": [
    "zip(*list)：　リストを、転置して、tuple型に変換する"
   ]
  },
  {
   "cell_type": "code",
   "execution_count": 10,
   "id": "ruled-watson",
   "metadata": {},
   "outputs": [
    {
     "data": {
      "text/plain": [
       "[(['私', '今日', 'パン', '食べる'],), (['今日', 'パン', '食べる'],), (['パン', '食べる'],)]"
      ]
     },
     "execution_count": 10,
     "metadata": {},
     "output_type": "execute_result"
    }
   ],
   "source": [
    "list(zip([tokens[i:] for i in range(3)]))"
   ]
  },
  {
   "cell_type": "code",
   "execution_count": 11,
   "id": "greater-literacy",
   "metadata": {},
   "outputs": [
    {
     "data": {
      "text/plain": [
       "[('私', '今日', 'パン'), ('今日', 'パン', '食べる')]"
      ]
     },
     "execution_count": 11,
     "metadata": {},
     "output_type": "execute_result"
    }
   ],
   "source": [
    "# *を取ることで、\n",
    "list(zip(*[tokens[i:] for i in range(3)]))"
   ]
  },
  {
   "cell_type": "markdown",
   "id": "conservative-brief",
   "metadata": {},
   "source": [
    "つまり、上記の２重リストは転置されて、短い列の分だけ表示される\n",
    "\n",
    "ここで、N-gramsは、1つ後方にずらして、N個の組みを作るものなので、上記の方法で実現できる"
   ]
  },
  {
   "cell_type": "code",
   "execution_count": 12,
   "id": "objective-moore",
   "metadata": {},
   "outputs": [],
   "source": [
    "def generate_ngram(tokens, n=1):\n",
    "    return list(zip(*[tokens[i:] for i in range(n)]))"
   ]
  },
  {
   "cell_type": "markdown",
   "id": "cheap-approach",
   "metadata": {},
   "source": [
    "## 前処理"
   ]
  },
  {
   "cell_type": "code",
   "execution_count": 13,
   "id": "bibliographic-citation",
   "metadata": {},
   "outputs": [],
   "source": [
    "from bs4 import BeautifulSoup\n",
    "\n",
    "def clean_html(text, strip=True):\n",
    "    soup = BeautifulSoup(text, 'html.parser')\n",
    "    text = soup.get_text(strip=strip)\n",
    "    return text"
   ]
  },
  {
   "cell_type": "code",
   "execution_count": 14,
   "id": "verbal-invite",
   "metadata": {},
   "outputs": [],
   "source": [
    "import re\n",
    "def nornalize_number(text):\n",
    "    text = re.sub(r'\\d+', '0', text)\n",
    "    return text"
   ]
  },
  {
   "cell_type": "code",
   "execution_count": 15,
   "id": "norwegian-shepherd",
   "metadata": {},
   "outputs": [],
   "source": [
    "with open('../input/stopwords_slothlib.txt', 'r') as f:\n",
    "    stopwords = [w.strip() for w in f]\n",
    "    stopwords = set(stopwords)\n",
    "\n",
    "add_stopwords = {\n",
    "    '*',\n",
    "    'あ','い','う','え','お',\n",
    "    'か','き','く','け','こ',\n",
    "    'さ','し','す','せ','そ',\n",
    "    'た','ち','つ','て','と',\n",
    "    'な','に','ぬ','ね','の',\n",
    "    'は','ひ','ふ','へ','ほ',\n",
    "    'ま','み','む','め','も',\n",
    "    'や','ゆ','よ',\n",
    "    'わ' ,'を','ん',\n",
    "    '0',\n",
    "    'ã',\n",
    "    'of',\n",
    "    'the',\n",
    "}\n",
    "stopwords = stopwords | add_stopwords\n",
    "\n",
    "def remove_stopwords(words):\n",
    "    words = [w for w in words if w not in stopwords]\n",
    "    return words"
   ]
  },
  {
   "cell_type": "markdown",
   "id": "suited-elements",
   "metadata": {},
   "source": [
    "# Word count"
   ]
  },
  {
   "cell_type": "code",
   "execution_count": 16,
   "id": "brave-movement",
   "metadata": {},
   "outputs": [
    {
     "name": "stderr",
     "output_type": "stream",
     "text": [
      "/Users/fmasashi/.pyenv/versions/3.8.6/envs/text_japanese/lib/python3.8/site-packages/bs4/__init__.py:417: MarkupResemblesLocatorWarning: \"http://www.amazon.co.jp/gp/product/B0040NOWY8/ref=cm_cr_ryp_prd_ttl_sol_3\" looks like a URL. Beautiful Soup is not an HTTP client. You should probably use an HTTP client like requests to get the document behind the URL, and feed that document to Beautiful Soup.\n",
      "  warnings.warn(\n"
     ]
    },
    {
     "name": "stdout",
     "output_type": "stream",
     "text": [
      "CPU times: user 5min 46s, sys: 23.4 s, total: 6min 9s\n",
      "Wall time: 7min 12s\n"
     ]
    }
   ],
   "source": [
    "%%time\n",
    "word_list = [tokenize(nornalize_number(clean_html(text)), target=['名詞']) for text in df['review_body']]"
   ]
  },
  {
   "cell_type": "code",
   "execution_count": 17,
   "id": "structured-outside",
   "metadata": {},
   "outputs": [],
   "source": [
    "word_list_rm_stopwords = []\n",
    "for wl in word_list:\n",
    "    word_list_rm_stopwords.append([w for w in wl if w not in stopwords])"
   ]
  },
  {
   "cell_type": "code",
   "execution_count": 18,
   "id": "wireless-grace",
   "metadata": {},
   "outputs": [
    {
     "name": "stdout",
     "output_type": "stream",
     "text": [
      "CPU times: user 5 s, sys: 1.01 s, total: 6.01 s\n",
      "Wall time: 7.12 s\n"
     ]
    }
   ],
   "source": [
    "%%time\n",
    "# n-gramに\n",
    "word_list_ngram = [generate_ngram(tokens, n=2) for tokens in word_list_rm_stopwords]"
   ]
  },
  {
   "cell_type": "code",
   "execution_count": 19,
   "id": "integrated-concern",
   "metadata": {},
   "outputs": [
    {
     "data": {
      "text/plain": [
       "[('残念', '趣味'), ('趣味', 'ケルト音楽'), ('ケルト音楽', '範疇'), ('範疇', '幅')]"
      ]
     },
     "execution_count": 19,
     "metadata": {},
     "output_type": "execute_result"
    }
   ],
   "source": [
    "word_list_ngram[0]"
   ]
  },
  {
   "cell_type": "code",
   "execution_count": 20,
   "id": "sharing-virgin",
   "metadata": {},
   "outputs": [],
   "source": [
    "# 各行ごとのリストのリストでなく、1つのwordリストに\n",
    "word_list_all = []\n",
    "for w in word_list_ngram:\n",
    "    word_list_all.extend(w)"
   ]
  },
  {
   "cell_type": "code",
   "execution_count": 21,
   "id": "obvious-breath",
   "metadata": {
    "scrolled": false
   },
   "outputs": [],
   "source": [
    "from collections import Counter\n",
    "cnt_word = Counter(word_list_all)\n",
    "# cnt_word.most_common(n=10)"
   ]
  },
  {
   "cell_type": "code",
   "execution_count": 22,
   "id": "powered-ontario",
   "metadata": {
    "scrolled": false
   },
   "outputs": [
    {
     "data": {
      "image/png": "[encoded data removed]",
      "text/plain": [
       "<Figure size 432x288 with 1 Axes>"
      ]
     },
     "metadata": {
      "needs_background": "light"
     },
     "output_type": "display_data"
    }
   ],
   "source": [
    "cnt_word_keys = []\n",
    "cnt_word_values = []\n",
    "for c in cnt_word.most_common(n=20):\n",
    "    cnt_word_keys.append(c[0])\n",
    "    cnt_word_values.append(c[1])\n",
    "\n",
    "# plt.figure(figsize=(10, 20))\n",
    "sns.barplot(x=cnt_word_values, y=['-'.join(w) for w in cnt_word_keys])\n",
    "# plt.xticks(fontsize=18)\n",
    "# plt.yticks(fontsize=12)\n",
    "plt.show()"
   ]
  },
  {
   "cell_type": "code",
   "execution_count": 23,
   "id": "advance-wallet",
   "metadata": {},
   "outputs": [],
   "source": [
    "# fpath = \"/Library/Fonts/Arial Unicode.ttf\"\n",
    "# word_list_all_cat = ['&'.join(w) for w in word_list_all]\n",
    "# words_wakati = ' '.join(word_list_all_cat)\n",
    "\n",
    "# wordcloud = WordCloud(\n",
    "#     font_path=fpath,\n",
    "#     width=900, height=600,   # default width=400, height=200\n",
    "#     background_color=\"white\",   # default=”black”\n",
    "# #     stopwords=set(stop_words),\n",
    "#     max_words=500,   # default=200\n",
    "#     min_font_size=4,   #default=4\n",
    "#     collocations = False   #default = True\n",
    "#     ).generate(words_wakati)\n",
    " \n",
    "# plt.figure(figsize=(15,12))\n",
    "# plt.imshow(wordcloud)\n",
    "# plt.axis(\"off\")\n",
    "# # plt.savefig(\"word_cloud.png\")\n",
    "# plt.show()"
   ]
  },
  {
   "cell_type": "code",
   "execution_count": null,
   "id": "residential-bunny",
   "metadata": {},
   "outputs": [],
   "source": []
  }
 ],
 "metadata": {
  "kernelspec": {
   "display_name": "Python 3",
   "language": "python",
   "name": "python3"
  },
  "language_info": {
   "codemirror_mode": {
    "name": "ipython",
    "version": 3
   },
   "file_extension": ".py",
   "mimetype": "text/x-python",
   "name": "python",
   "nbconvert_exporter": "python",
   "pygments_lexer": "ipython3",
   "version": "3.8.6"
  }
 },
 "nbformat": 4,
 "nbformat_minor": 5
}
