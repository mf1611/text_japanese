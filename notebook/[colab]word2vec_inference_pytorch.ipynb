{
  "nbformat": 4,
  "nbformat_minor": 5,
  "metadata": {
    "kernelspec": {
      "display_name": "Python 3 (ipykernel)",
      "language": "python",
      "name": "python3"
    },
    "language_info": {
      "codemirror_mode": {
        "name": "ipython",
        "version": 3
      },
      "file_extension": ".py",
      "mimetype": "text/x-python",
      "name": "python",
      "nbconvert_exporter": "python",
      "pygments_lexer": "ipython3",
      "version": "3.8.6"
    },
    "colab": {
      "name": "[colab]word2vec_inference_pytorch.ipynb",
      "provenance": [],
      "collapsed_sections": []
    }
  },
  "cells": [
    {
      "cell_type": "markdown",
      "metadata": {
        "id": "1bc8ca73-48ed-4e59-8b4d-f53dda91fe5f"
      },
      "source": [
        "## 参考\n",
        "- https://github.com/theeluwin/pytorch-sgns"
      ],
      "id": "1bc8ca73-48ed-4e59-8b4d-f53dda91fe5f"
    },
    {
      "cell_type": "code",
      "metadata": {
        "colab": {
          "base_uri": "https://localhost:8080/"
        },
        "id": "XL7zbEaezZ7-",
        "outputId": "002ccd6e-35da-42d5-d1b2-6d282399fdc7"
      },
      "source": [
        "!nvidia-smi"
      ],
      "id": "XL7zbEaezZ7-",
      "execution_count": 1,
      "outputs": [
        {
          "output_type": "stream",
          "text": [
            "NVIDIA-SMI has failed because it couldn't communicate with the NVIDIA driver. Make sure that the latest NVIDIA driver is installed and running.\n",
            "\n"
          ],
          "name": "stdout"
        }
      ]
    },
    {
      "cell_type": "code",
      "metadata": {
        "colab": {
          "base_uri": "https://localhost:8080/"
        },
        "id": "1vJSSx96zUDU",
        "outputId": "b60e6192-9e72-479f-944c-df91fcf1d67b"
      },
      "source": [
        "from google.colab import drive\n",
        "drive.mount('/content/drive')\n",
        "print('Mount OK')"
      ],
      "id": "1vJSSx96zUDU",
      "execution_count": 2,
      "outputs": [
        {
          "output_type": "stream",
          "text": [
            "Mounted at /content/drive\n",
            "Mount OK\n"
          ],
          "name": "stdout"
        }
      ]
    },
    {
      "cell_type": "code",
      "metadata": {
        "colab": {
          "base_uri": "https://localhost:8080/"
        },
        "id": "AalxBwfc0WqZ",
        "outputId": "4cf93264-25b7-4aa5-d6cc-9d4065b5f940"
      },
      "source": [
        "# https://qiita.com/jun40vn/items/78e33e29dce3d50c2df1\n",
        "\n",
        "# 形態素分析ライブラリーMeCab と 辞書(mecab-ipadic-NEologd)のインストール \n",
        "!apt-get -q -y install sudo file mecab libmecab-dev mecab-ipadic-utf8 git curl python-mecab > /dev/null\n",
        "!git clone --depth 1 https://github.com/neologd/mecab-ipadic-neologd.git > /dev/null \n",
        "!echo yes | mecab-ipadic-neologd/bin/install-mecab-ipadic-neologd -n > /dev/null 2>&1\n",
        "!pip install mecab-python3 > /dev/null\n",
        "\n",
        "# シンボリックリンクによるエラー回避\n",
        "!ln -s /etc/mecabrc /usr/local/etc/mecabrc"
      ],
      "id": "AalxBwfc0WqZ",
      "execution_count": 3,
      "outputs": [
        {
          "output_type": "stream",
          "text": [
            "Cloning into 'mecab-ipadic-neologd'...\n",
            "remote: Enumerating objects: 75, done.\u001b[K\n",
            "remote: Counting objects: 100% (75/75), done.\u001b[K\n",
            "remote: Compressing objects: 100% (74/74), done.\u001b[K\n",
            "remote: Total 75 (delta 5), reused 54 (delta 0), pack-reused 0\u001b[K\n",
            "Unpacking objects: 100% (75/75), done.\n"
          ],
          "name": "stdout"
        }
      ]
    },
    {
      "cell_type": "code",
      "metadata": {
        "tags": [],
        "id": "28d42253-26d4-4ec3-8254-ec41ca88773a"
      },
      "source": [
        "import os\n",
        "from glob import glob\n",
        "import pandas as pd\n",
        "import numpy as np\n",
        "import matplotlib.pyplot as plt\n",
        "import seaborn as sns\n",
        "import MeCab\n",
        "\n",
        "from tqdm import tqdm_notebook as tqdm\n",
        "import numpy as np\n",
        "import torch\n",
        "import torch.nn as nn\n",
        "from torch.optim import Adam\n",
        "from torch.utils.data import Dataset, DataLoader"
      ],
      "id": "28d42253-26d4-4ec3-8254-ec41ca88773a",
      "execution_count": 4,
      "outputs": []
    },
    {
      "cell_type": "code",
      "metadata": {
        "id": "654731f7-6039-4aea-9dfc-2b1d6ef16886"
      },
      "source": [
        "DATA_DIR = \"/content/drive/MyDrive/Colab Notebooks/word2vec_pytorch/input/\"\n",
        "SAVE_DIR = \"/content/drive/MyDrive/Colab Notebooks/word2vec_pytorch/output/\"\n",
        "os.makedirs(SAVE_DIR, exist_ok=True)"
      ],
      "id": "654731f7-6039-4aea-9dfc-2b1d6ef16886",
      "execution_count": 5,
      "outputs": []
    },
    {
      "cell_type": "code",
      "metadata": {
        "tags": [],
        "colab": {
          "base_uri": "https://localhost:8080/",
          "height": 751
        },
        "id": "50dc2a1a-2aa8-4d09-aad4-b898c155ffda",
        "outputId": "5991d497-1000-43b0-f123-3b7d4036e367"
      },
      "source": [
        "# wikipediaの日本語版から作られたコーパス\n",
        "# https://s3-ap-northeast-1.amazonaws.com/dev.tech-sketch.jp/chakki/public/ja.text8.zip\n",
        "df = pd.read_csv(os.path.join(DATA_DIR, 'amazon_reviews_multilingual_JP_v1_00.tsv'), sep='\\t')\n",
        "print(df.shape)\n",
        "df.head()"
      ],
      "id": "50dc2a1a-2aa8-4d09-aad4-b898c155ffda",
      "execution_count": 6,
      "outputs": [
        {
          "output_type": "stream",
          "text": [
            "(262256, 15)\n"
          ],
          "name": "stdout"
        },
        {
          "output_type": "execute_result",
          "data": {
            "text/html": [
              "<div>\n",
              "<style scoped>\n",
              "    .dataframe tbody tr th:only-of-type {\n",
              "        vertical-align: middle;\n",
              "    }\n",
              "\n",
              "    .dataframe tbody tr th {\n",
              "        vertical-align: top;\n",
              "    }\n",
              "\n",
              "    .dataframe thead th {\n",
              "        text-align: right;\n",
              "    }\n",
              "</style>\n",
              "<table border=\"1\" class=\"dataframe\">\n",
              "  <thead>\n",
              "    <tr style=\"text-align: right;\">\n",
              "      <th></th>\n",
              "      <th>marketplace</th>\n",
              "      <th>customer_id</th>\n",
              "      <th>review_id</th>\n",
              "      <th>product_id</th>\n",
              "      <th>product_parent</th>\n",
              "      <th>product_title</th>\n",
              "      <th>product_category</th>\n",
              "      <th>star_rating</th>\n",
              "      <th>helpful_votes</th>\n",
              "      <th>total_votes</th>\n",
              "      <th>vine</th>\n",
              "      <th>verified_purchase</th>\n",
              "      <th>review_headline</th>\n",
              "      <th>review_body</th>\n",
              "      <th>review_date</th>\n",
              "    </tr>\n",
              "  </thead>\n",
              "  <tbody>\n",
              "    <tr>\n",
              "      <th>0</th>\n",
              "      <td>JP</td>\n",
              "      <td>65317</td>\n",
              "      <td>R33RSUD4ZTRKT7</td>\n",
              "      <td>B000001GBJ</td>\n",
              "      <td>957145596</td>\n",
              "      <td>SONGS FROM A SECRET GARDE</td>\n",
              "      <td>Music</td>\n",
              "      <td>1</td>\n",
              "      <td>1</td>\n",
              "      <td>15</td>\n",
              "      <td>N</td>\n",
              "      <td>Y</td>\n",
              "      <td>残念ながら…</td>\n",
              "      <td>残念ながら…趣味ではありませんでした。ケルト音楽の範疇にも幅があるのですね…</td>\n",
              "      <td>2012-12-05</td>\n",
              "    </tr>\n",
              "    <tr>\n",
              "      <th>1</th>\n",
              "      <td>JP</td>\n",
              "      <td>65317</td>\n",
              "      <td>R2U1VB8GPZBBEH</td>\n",
              "      <td>B000YPWBQ2</td>\n",
              "      <td>904244932</td>\n",
              "      <td>鏡の中の鏡‾ペルト作品集(SACD)(Arvo Part:Spiegel im Spiegel)</td>\n",
              "      <td>Music</td>\n",
              "      <td>1</td>\n",
              "      <td>4</td>\n",
              "      <td>20</td>\n",
              "      <td>N</td>\n",
              "      <td>Y</td>\n",
              "      <td>残念ながら…</td>\n",
              "      <td>残念ながら…趣味ではありませんでした。正直退屈…眠気も起きない…</td>\n",
              "      <td>2012-12-05</td>\n",
              "    </tr>\n",
              "    <tr>\n",
              "      <th>2</th>\n",
              "      <td>JP</td>\n",
              "      <td>65696</td>\n",
              "      <td>R1IBRCJPPGWVJW</td>\n",
              "      <td>B0002E5O9G</td>\n",
              "      <td>108978277</td>\n",
              "      <td>Les Miserables 10th Anniversary Concert</td>\n",
              "      <td>Music</td>\n",
              "      <td>5</td>\n",
              "      <td>2</td>\n",
              "      <td>3</td>\n",
              "      <td>N</td>\n",
              "      <td>Y</td>\n",
              "      <td>ドリームキャスト</td>\n",
              "      <td>素晴らしいパフォーマンス。ミュージカル映画版の物足りない歌唱とは違います。</td>\n",
              "      <td>2013-03-02</td>\n",
              "    </tr>\n",
              "    <tr>\n",
              "      <th>3</th>\n",
              "      <td>JP</td>\n",
              "      <td>67162</td>\n",
              "      <td>RL02CW5XLYONU</td>\n",
              "      <td>B00004SRJ5</td>\n",
              "      <td>606528497</td>\n",
              "      <td>It Takes a Nation of Millions to Hold Us Back</td>\n",
              "      <td>Music</td>\n",
              "      <td>5</td>\n",
              "      <td>6</td>\n",
              "      <td>9</td>\n",
              "      <td>N</td>\n",
              "      <td>Y</td>\n",
              "      <td>やっぱりマスト</td>\n",
              "      <td>専門的な事を言わずにお勧めレコメを書きたいのですが、文才が無いので無理でした。ヒップホップが...</td>\n",
              "      <td>2013-08-11</td>\n",
              "    </tr>\n",
              "    <tr>\n",
              "      <th>4</th>\n",
              "      <td>JP</td>\n",
              "      <td>67701</td>\n",
              "      <td>R2LA2SS3HU3A3L</td>\n",
              "      <td>B0093H8H8I</td>\n",
              "      <td>509738390</td>\n",
              "      <td>Intel CPU Core I3-3225 3.3GHz 3MBキャッシュ LGA1155...</td>\n",
              "      <td>PC</td>\n",
              "      <td>4</td>\n",
              "      <td>2</td>\n",
              "      <td>4</td>\n",
              "      <td>N</td>\n",
              "      <td>Y</td>\n",
              "      <td>コスパ的には十分</td>\n",
              "      <td>今までの環境（Core2 Duo E4600)に比べれば十分に快適になりました。&lt;br /&gt;...</td>\n",
              "      <td>2013-02-10</td>\n",
              "    </tr>\n",
              "  </tbody>\n",
              "</table>\n",
              "</div>"
            ],
            "text/plain": [
              "  marketplace  ...  review_date\n",
              "0          JP  ...   2012-12-05\n",
              "1          JP  ...   2012-12-05\n",
              "2          JP  ...   2013-03-02\n",
              "3          JP  ...   2013-08-11\n",
              "4          JP  ...   2013-02-10\n",
              "\n",
              "[5 rows x 15 columns]"
            ]
          },
          "metadata": {
            "tags": []
          },
          "execution_count": 6
        }
      ]
    },
    {
      "cell_type": "code",
      "metadata": {
        "id": "1ff7ce65-58c8-4c85-aa29-b357f7d01009"
      },
      "source": [
        "# tagger = MeCab.Tagger(\"-Ochasen -d /usr/local/lib/mecab/dic/mecab-ipadic-neologd\")\n",
        "path = \"-d /usr/lib/x86_64-linux-gnu/mecab/dic/mecab-ipadic-neologd\"\n",
        "tagger = MeCab.Tagger(f\"-Ochasen {path}\")\n",
        "def tokenize(text, target=['名詞', '動詞']):\n",
        "        # 連結リスト\n",
        "        node = tagger.parseToNode(text)\n",
        "\n",
        "        result = []\n",
        "        while node:\n",
        "            hinshi = node.feature.split(\",\")[0]\n",
        "            if hinshi in target:\n",
        "                if node.feature.split(\",\")[6]!='*':\n",
        "                    result.append(node.feature.split(\",\")[6])\n",
        "                else:\n",
        "                    result.append(node.surface)  # 原形で取得しようとする場合、英字だと表示されずに「*」となることがあるため、その場合はsurfaceを取る\n",
        "            node = node.next\n",
        "\n",
        "        return result"
      ],
      "id": "1ff7ce65-58c8-4c85-aa29-b357f7d01009",
      "execution_count": 7,
      "outputs": []
    },
    {
      "cell_type": "code",
      "metadata": {
        "id": "4efdbf82-2b02-4a03-a0bd-0bb590de10e9"
      },
      "source": [
        "from bs4 import BeautifulSoup\n",
        "def clean_html(text, strip=True):\n",
        "    soup = BeautifulSoup(text, 'html.parser')\n",
        "    text = soup.get_text(strip=strip)\n",
        "    return text"
      ],
      "id": "4efdbf82-2b02-4a03-a0bd-0bb590de10e9",
      "execution_count": 8,
      "outputs": []
    },
    {
      "cell_type": "code",
      "metadata": {
        "id": "b5f2c1f9-2f10-4f26-a3ee-143e41fec5f4"
      },
      "source": [
        "import re\n",
        "def nornalize_number(text):\n",
        "    text = re.sub(r'\\d+', '0', text)\n",
        "    return text"
      ],
      "id": "b5f2c1f9-2f10-4f26-a3ee-143e41fec5f4",
      "execution_count": 9,
      "outputs": []
    },
    {
      "cell_type": "code",
      "metadata": {
        "id": "56681916-0f72-4650-bff3-3678e692ada8"
      },
      "source": [
        "def remove_symbol(text):\n",
        "    \"\"\"\n",
        "    https://ohke.hateblo.jp/entry/2019/02/09/141500\n",
        "    \"\"\"\n",
        "    # 半角記号の置換\n",
        "    text = re.sub(r'[!-/:-@[-`{-~]', r' ', text)\n",
        "\n",
        "    # 全角記号の置換 (ここでは0x25A0 - 0x266Fのブロックのみを除去)\n",
        "    text = re.sub(u'[■-♯]', ' ', text)\n",
        "    \n",
        "    return text"
      ],
      "id": "56681916-0f72-4650-bff3-3678e692ada8",
      "execution_count": 10,
      "outputs": []
    },
    {
      "cell_type": "code",
      "metadata": {
        "id": "7dd52e18-75d7-48d4-a8b6-988530f70e37"
      },
      "source": [
        "with open(os.path.join(DATA_DIR, 'stopwords_slothlib.txt'), 'r') as f:\n",
        "    stopwords = [w.strip() for w in f]\n",
        "    stopwords = set(stopwords)\n",
        "\n",
        "add_stopwords = {\n",
        "    '*',\n",
        "    'あ','い','う','え','お',\n",
        "    'か','き','く','け','こ',\n",
        "    'さ','し','す','せ','そ',\n",
        "    'た','ち','つ','て','と',\n",
        "    'な','に','ぬ','ね','の',\n",
        "    'は','ひ','ふ','へ','ほ',\n",
        "    'ま','み','む','め','も',\n",
        "    'や','ゆ','よ',\n",
        "    'わ' ,'を','ん',\n",
        "    '0', '1', \n",
        "    'ã',\n",
        "    'å',\n",
        "    'å',\n",
        "    'ä',\n",
        "    'ï', \n",
        "    'è',\n",
        "    'é',\n",
        "    'æ',\n",
        "    'ç',\n",
        "    'of',\n",
        "    'the',\n",
        "    'a','b','c','d','e','f','g','h','i','j','k','l','m','n','o','p','q','r','s','t','u','v','w','x','y','z',\n",
        "    'A','B','C','D','E','F','G','H','I','J','K','L','M','N','O','P','Q','R','S','T','U','V','W','X','Y','Z',\n",
        "}\n",
        "stopwords = stopwords | add_stopwords\n",
        "\n",
        "def remove_stopwords(words):\n",
        "    words = [w for w in words if w not in stopwords]\n",
        "    return words"
      ],
      "id": "7dd52e18-75d7-48d4-a8b6-988530f70e37",
      "execution_count": 11,
      "outputs": []
    },
    {
      "cell_type": "code",
      "metadata": {
        "id": "89878c82-2ef8-4e85-a06b-4b538b122cd1"
      },
      "source": [
        "X = df['review_body']"
      ],
      "id": "89878c82-2ef8-4e85-a06b-4b538b122cd1",
      "execution_count": 12,
      "outputs": []
    },
    {
      "cell_type": "code",
      "metadata": {
        "colab": {
          "base_uri": "https://localhost:8080/"
        },
        "id": "3072944a-7ecc-4602-9928-d0ce9f3a4d01",
        "outputId": "9f8ea6f2-b30d-483f-f795-ad594834b452"
      },
      "source": [
        "%%time\n",
        "# 前処理+tokenization\n",
        "X = [tokenize(remove_symbol(nornalize_number(clean_html(text))), target=['名詞']) for text in X]\n",
        "\n",
        "# stopwordsの除去\n",
        "X_rm_stopwords = []\n",
        "for tokens in X:\n",
        "    X_rm_stopwords.append([w for w in tokens if w not in stopwords])\n",
        "\n",
        "X = X_rm_stopwords\n",
        "# # スペース区切りの分かち書きの状態にする\n",
        "# X = [' '.join(tokens) for tokens in X_rm_stopwords]"
      ],
      "id": "3072944a-7ecc-4602-9928-d0ce9f3a4d01",
      "execution_count": 13,
      "outputs": [
        {
          "output_type": "stream",
          "text": [
            "/usr/local/lib/python3.7/dist-packages/bs4/__init__.py:336: UserWarning: \"http://www.amazon.co.jp/gp/product/B0040NOWY8/ref=cm_cr_ryp_prd_ttl_sol_3\" looks like a URL. Beautiful Soup is not an HTTP client. You should probably use an HTTP client like requests to get the document behind the URL, and feed that document to Beautiful Soup.\n",
            "  ' that document to Beautiful Soup.' % decoded_markup\n"
          ],
          "name": "stderr"
        },
        {
          "output_type": "stream",
          "text": [
            "CPU times: user 3min 23s, sys: 3.17 s, total: 3min 26s\n",
            "Wall time: 3min 26s\n"
          ],
          "name": "stdout"
        }
      ]
    },
    {
      "cell_type": "markdown",
      "metadata": {
        "id": "5c735ac9-998f-4127-9c4a-2037ebdad6af"
      },
      "source": [
        "## word2vec"
      ],
      "id": "5c735ac9-998f-4127-9c4a-2037ebdad6af"
    },
    {
      "cell_type": "code",
      "metadata": {
        "colab": {
          "base_uri": "https://localhost:8080/"
        },
        "id": "rOCtSjdw9RRC",
        "outputId": "0d326917-9ea4-49d7-9a57-62a72184f8bb"
      },
      "source": [
        "device = 'cuda' if torch.cuda.is_available() else 'cpu'\n",
        "#device = 'cpu'\n",
        "print(device)"
      ],
      "id": "rOCtSjdw9RRC",
      "execution_count": 14,
      "outputs": [
        {
          "output_type": "stream",
          "text": [
            "cpu\n"
          ],
          "name": "stdout"
        }
      ]
    },
    {
      "cell_type": "code",
      "metadata": {
        "id": "XaidSgYb8z-I"
      },
      "source": [
        "import pickle\n",
        "word_count = pickle.load(open(os.path.join(SAVE_DIR, 'word_count.pkl'), 'rb'))\n",
        "vocab = pickle.load(open(os.path.join(SAVE_DIR, 'vocab.pkl'), 'rb'))\n",
        "word2idx = pickle.load(open(os.path.join(SAVE_DIR, 'word2idx.pkl'), 'rb'))\n",
        "idx2word = pickle.load(open(os.path.join(SAVE_DIR, 'idx2word.pkl'), 'rb'))"
      ],
      "id": "XaidSgYb8z-I",
      "execution_count": 15,
      "outputs": []
    },
    {
      "cell_type": "code",
      "metadata": {
        "id": "YSiFDixg9wrx"
      },
      "source": [
        "class Word2Vec(nn.Module):\n",
        "    \"\"\"\n",
        "    input_word, output_wordsを、それぞれEmbeddingでベクトルに変換\n",
        "    ベクトルの重みを学習パラメータとする\n",
        "    \"\"\"\n",
        "    def __init__(self, vocab_size=20000, embedding_size=300, padding_idx=0):\n",
        "        super(Word2Vec, self).__init__()\n",
        "        self.vocab_size = vocab_size\n",
        "        self.embedding_size = embedding_size\n",
        "        self.ivectors = nn.Embedding(self.vocab_size, self.embedding_size, padding_idx=padding_idx)\n",
        "        self.ovectors = nn.Embedding(self.vocab_size, self.embedding_size, padding_idx=padding_idx)\n",
        "        self.ivectors.weight = nn.Parameter(torch.cat([torch.zeros(1, self.embedding_size), torch.FloatTensor(self.vocab_size-1, self.embedding_size).uniform_(-0.5 / self.embedding_size, 0.5 / self.embedding_size)]))\n",
        "        self.ovectors.weight = nn.Parameter(torch.cat([torch.zeros(1, self.embedding_size), torch.FloatTensor(self.vocab_size-1, self.embedding_size).uniform_(-0.5 / self.embedding_size, 0.5 / self.embedding_size)]))\n",
        "        self.ivectors.weight.requires_grad = True\n",
        "        self.ovectors.weight.requires_grad = True\n",
        "\n",
        "    def forward(self, data):\n",
        "        return self.forward_i(data)\n",
        "\n",
        "    def forward_i(self, data):\n",
        "        v = torch.LongTensor(data).to(device)\n",
        "        return self.ivectors(v)\n",
        "\n",
        "    def forward_o(self, data):\n",
        "        v = torch.LongTensor(data).to(device)\n",
        "        return self.ovectors(v)"
      ],
      "id": "YSiFDixg9wrx",
      "execution_count": 16,
      "outputs": []
    },
    {
      "cell_type": "code",
      "metadata": {
        "colab": {
          "base_uri": "https://localhost:8080/"
        },
        "id": "NYvv6Zgu9JYX",
        "outputId": "c7143145-1c27-4290-f5c7-55ff34a539da"
      },
      "source": [
        "vocab_size = len(idx2word)\n",
        "embedding_size = 128\n",
        "\n",
        "model = Word2Vec(vocab_size=vocab_size, embedding_size=embedding_size).to(device)\n",
        "model.load_state_dict(torch.load(os.path.join(SAVE_DIR, 'word2vec.pt'), map_location=torch.device('cpu')))"
      ],
      "id": "NYvv6Zgu9JYX",
      "execution_count": 19,
      "outputs": [
        {
          "output_type": "execute_result",
          "data": {
            "text/plain": [
              "<All keys matched successfully>"
            ]
          },
          "metadata": {
            "tags": []
          },
          "execution_count": 19
        }
      ]
    },
    {
      "cell_type": "code",
      "metadata": {
        "colab": {
          "base_uri": "https://localhost:8080/",
          "height": 253
        },
        "id": "Hgqr7-TU-wh8",
        "outputId": "2ff56b70-1f8b-424d-f95f-a3608b15e6e4"
      },
      "source": [
        "# 学習した分散表現をpd.DataFrameに格納\n",
        "vals = model(torch.LongTensor([i for i in range(len(idx2word))]))\n",
        "df = pd.DataFrame(vals.detach().numpy())\n",
        "df.head()"
      ],
      "id": "Hgqr7-TU-wh8",
      "execution_count": 36,
      "outputs": [
        {
          "output_type": "execute_result",
          "data": {
            "text/html": [
              "<div>\n",
              "<style scoped>\n",
              "    .dataframe tbody tr th:only-of-type {\n",
              "        vertical-align: middle;\n",
              "    }\n",
              "\n",
              "    .dataframe tbody tr th {\n",
              "        vertical-align: top;\n",
              "    }\n",
              "\n",
              "    .dataframe thead th {\n",
              "        text-align: right;\n",
              "    }\n",
              "</style>\n",
              "<table border=\"1\" class=\"dataframe\">\n",
              "  <thead>\n",
              "    <tr style=\"text-align: right;\">\n",
              "      <th></th>\n",
              "      <th>0</th>\n",
              "      <th>1</th>\n",
              "      <th>2</th>\n",
              "      <th>3</th>\n",
              "      <th>4</th>\n",
              "      <th>5</th>\n",
              "      <th>6</th>\n",
              "      <th>7</th>\n",
              "      <th>8</th>\n",
              "      <th>9</th>\n",
              "      <th>10</th>\n",
              "      <th>11</th>\n",
              "      <th>12</th>\n",
              "      <th>13</th>\n",
              "      <th>14</th>\n",
              "      <th>15</th>\n",
              "      <th>16</th>\n",
              "      <th>17</th>\n",
              "      <th>18</th>\n",
              "      <th>19</th>\n",
              "      <th>20</th>\n",
              "      <th>21</th>\n",
              "      <th>22</th>\n",
              "      <th>23</th>\n",
              "      <th>24</th>\n",
              "      <th>25</th>\n",
              "      <th>26</th>\n",
              "      <th>27</th>\n",
              "      <th>28</th>\n",
              "      <th>29</th>\n",
              "      <th>30</th>\n",
              "      <th>31</th>\n",
              "      <th>32</th>\n",
              "      <th>33</th>\n",
              "      <th>34</th>\n",
              "      <th>35</th>\n",
              "      <th>36</th>\n",
              "      <th>37</th>\n",
              "      <th>38</th>\n",
              "      <th>39</th>\n",
              "      <th>...</th>\n",
              "      <th>88</th>\n",
              "      <th>89</th>\n",
              "      <th>90</th>\n",
              "      <th>91</th>\n",
              "      <th>92</th>\n",
              "      <th>93</th>\n",
              "      <th>94</th>\n",
              "      <th>95</th>\n",
              "      <th>96</th>\n",
              "      <th>97</th>\n",
              "      <th>98</th>\n",
              "      <th>99</th>\n",
              "      <th>100</th>\n",
              "      <th>101</th>\n",
              "      <th>102</th>\n",
              "      <th>103</th>\n",
              "      <th>104</th>\n",
              "      <th>105</th>\n",
              "      <th>106</th>\n",
              "      <th>107</th>\n",
              "      <th>108</th>\n",
              "      <th>109</th>\n",
              "      <th>110</th>\n",
              "      <th>111</th>\n",
              "      <th>112</th>\n",
              "      <th>113</th>\n",
              "      <th>114</th>\n",
              "      <th>115</th>\n",
              "      <th>116</th>\n",
              "      <th>117</th>\n",
              "      <th>118</th>\n",
              "      <th>119</th>\n",
              "      <th>120</th>\n",
              "      <th>121</th>\n",
              "      <th>122</th>\n",
              "      <th>123</th>\n",
              "      <th>124</th>\n",
              "      <th>125</th>\n",
              "      <th>126</th>\n",
              "      <th>127</th>\n",
              "    </tr>\n",
              "  </thead>\n",
              "  <tbody>\n",
              "    <tr>\n",
              "      <th>0</th>\n",
              "      <td>0.000000</td>\n",
              "      <td>0.000000</td>\n",
              "      <td>0.000000</td>\n",
              "      <td>0.000000</td>\n",
              "      <td>0.000000</td>\n",
              "      <td>0.000000</td>\n",
              "      <td>0.000000</td>\n",
              "      <td>0.000000</td>\n",
              "      <td>0.000000</td>\n",
              "      <td>0.000000</td>\n",
              "      <td>0.000000</td>\n",
              "      <td>0.000000</td>\n",
              "      <td>0.000000</td>\n",
              "      <td>0.000000</td>\n",
              "      <td>0.000000</td>\n",
              "      <td>0.000000</td>\n",
              "      <td>0.000000</td>\n",
              "      <td>0.000000</td>\n",
              "      <td>0.000000</td>\n",
              "      <td>0.000000</td>\n",
              "      <td>0.000000</td>\n",
              "      <td>0.000000</td>\n",
              "      <td>0.000000</td>\n",
              "      <td>0.000000</td>\n",
              "      <td>0.000000</td>\n",
              "      <td>0.000000</td>\n",
              "      <td>0.000000</td>\n",
              "      <td>0.000000</td>\n",
              "      <td>0.000000</td>\n",
              "      <td>0.000000</td>\n",
              "      <td>0.000000</td>\n",
              "      <td>0.000000</td>\n",
              "      <td>0.000000</td>\n",
              "      <td>0.000000</td>\n",
              "      <td>0.000000</td>\n",
              "      <td>0.000000</td>\n",
              "      <td>0.000000</td>\n",
              "      <td>0.000000</td>\n",
              "      <td>0.000000</td>\n",
              "      <td>0.000000</td>\n",
              "      <td>...</td>\n",
              "      <td>0.000000</td>\n",
              "      <td>0.000000</td>\n",
              "      <td>0.000000</td>\n",
              "      <td>0.000000</td>\n",
              "      <td>0.000000</td>\n",
              "      <td>0.000000</td>\n",
              "      <td>0.000000</td>\n",
              "      <td>0.000000</td>\n",
              "      <td>0.000000</td>\n",
              "      <td>0.000000</td>\n",
              "      <td>0.000000</td>\n",
              "      <td>0.000000</td>\n",
              "      <td>0.000000</td>\n",
              "      <td>0.000000</td>\n",
              "      <td>0.000000</td>\n",
              "      <td>0.000000</td>\n",
              "      <td>0.000000</td>\n",
              "      <td>0.000000</td>\n",
              "      <td>0.000000</td>\n",
              "      <td>0.000000</td>\n",
              "      <td>0.000000</td>\n",
              "      <td>0.000000</td>\n",
              "      <td>0.000000</td>\n",
              "      <td>0.000000</td>\n",
              "      <td>0.000000</td>\n",
              "      <td>0.000000</td>\n",
              "      <td>0.000000</td>\n",
              "      <td>0.000000</td>\n",
              "      <td>0.000000</td>\n",
              "      <td>0.000000</td>\n",
              "      <td>0.000000</td>\n",
              "      <td>0.000000</td>\n",
              "      <td>0.000000</td>\n",
              "      <td>0.000000</td>\n",
              "      <td>0.000000</td>\n",
              "      <td>0.000000</td>\n",
              "      <td>0.000000</td>\n",
              "      <td>0.000000</td>\n",
              "      <td>0.000000</td>\n",
              "      <td>0.000000</td>\n",
              "    </tr>\n",
              "    <tr>\n",
              "      <th>1</th>\n",
              "      <td>-0.106793</td>\n",
              "      <td>-0.152478</td>\n",
              "      <td>0.174593</td>\n",
              "      <td>-0.078396</td>\n",
              "      <td>-0.133794</td>\n",
              "      <td>0.099618</td>\n",
              "      <td>0.074074</td>\n",
              "      <td>0.375492</td>\n",
              "      <td>-0.049113</td>\n",
              "      <td>-0.236578</td>\n",
              "      <td>0.235441</td>\n",
              "      <td>0.161749</td>\n",
              "      <td>0.089418</td>\n",
              "      <td>0.008814</td>\n",
              "      <td>0.175541</td>\n",
              "      <td>-0.107391</td>\n",
              "      <td>-0.591829</td>\n",
              "      <td>-0.393635</td>\n",
              "      <td>-0.023725</td>\n",
              "      <td>0.061424</td>\n",
              "      <td>-0.057120</td>\n",
              "      <td>0.114692</td>\n",
              "      <td>-0.055774</td>\n",
              "      <td>-0.056635</td>\n",
              "      <td>-0.108502</td>\n",
              "      <td>0.157030</td>\n",
              "      <td>0.205292</td>\n",
              "      <td>0.046451</td>\n",
              "      <td>0.126172</td>\n",
              "      <td>-0.025308</td>\n",
              "      <td>-0.143746</td>\n",
              "      <td>-0.214405</td>\n",
              "      <td>-0.198731</td>\n",
              "      <td>-0.398823</td>\n",
              "      <td>-0.006310</td>\n",
              "      <td>0.209876</td>\n",
              "      <td>-0.167805</td>\n",
              "      <td>-0.010938</td>\n",
              "      <td>0.043960</td>\n",
              "      <td>-0.102676</td>\n",
              "      <td>...</td>\n",
              "      <td>0.042056</td>\n",
              "      <td>-0.046562</td>\n",
              "      <td>0.074522</td>\n",
              "      <td>0.115885</td>\n",
              "      <td>-0.305021</td>\n",
              "      <td>0.372427</td>\n",
              "      <td>-0.096901</td>\n",
              "      <td>0.127295</td>\n",
              "      <td>0.059206</td>\n",
              "      <td>0.070374</td>\n",
              "      <td>0.110966</td>\n",
              "      <td>0.153938</td>\n",
              "      <td>0.059198</td>\n",
              "      <td>0.094530</td>\n",
              "      <td>0.102932</td>\n",
              "      <td>-0.006310</td>\n",
              "      <td>0.006225</td>\n",
              "      <td>-0.041630</td>\n",
              "      <td>0.112263</td>\n",
              "      <td>-0.137726</td>\n",
              "      <td>0.014560</td>\n",
              "      <td>0.075560</td>\n",
              "      <td>-0.138243</td>\n",
              "      <td>0.084384</td>\n",
              "      <td>-0.054973</td>\n",
              "      <td>0.107172</td>\n",
              "      <td>0.078156</td>\n",
              "      <td>-0.016336</td>\n",
              "      <td>-0.160795</td>\n",
              "      <td>-0.002251</td>\n",
              "      <td>-0.036207</td>\n",
              "      <td>0.275698</td>\n",
              "      <td>0.113353</td>\n",
              "      <td>-0.006903</td>\n",
              "      <td>0.215475</td>\n",
              "      <td>0.028386</td>\n",
              "      <td>0.193406</td>\n",
              "      <td>0.473533</td>\n",
              "      <td>0.026671</td>\n",
              "      <td>-0.037469</td>\n",
              "    </tr>\n",
              "    <tr>\n",
              "      <th>2</th>\n",
              "      <td>-0.241506</td>\n",
              "      <td>0.512962</td>\n",
              "      <td>-0.136076</td>\n",
              "      <td>0.461085</td>\n",
              "      <td>-0.057002</td>\n",
              "      <td>-0.654072</td>\n",
              "      <td>-0.101083</td>\n",
              "      <td>0.159774</td>\n",
              "      <td>-0.267620</td>\n",
              "      <td>-0.237275</td>\n",
              "      <td>0.359544</td>\n",
              "      <td>-0.088536</td>\n",
              "      <td>0.181655</td>\n",
              "      <td>0.334509</td>\n",
              "      <td>-0.271405</td>\n",
              "      <td>0.083225</td>\n",
              "      <td>0.101763</td>\n",
              "      <td>0.564471</td>\n",
              "      <td>-0.052027</td>\n",
              "      <td>0.298668</td>\n",
              "      <td>-0.086432</td>\n",
              "      <td>0.261878</td>\n",
              "      <td>-0.074687</td>\n",
              "      <td>1.155048</td>\n",
              "      <td>0.251029</td>\n",
              "      <td>0.091610</td>\n",
              "      <td>0.929972</td>\n",
              "      <td>0.294393</td>\n",
              "      <td>0.305607</td>\n",
              "      <td>0.609520</td>\n",
              "      <td>-0.378180</td>\n",
              "      <td>0.182596</td>\n",
              "      <td>-0.386493</td>\n",
              "      <td>0.334132</td>\n",
              "      <td>0.287570</td>\n",
              "      <td>-0.500872</td>\n",
              "      <td>0.052310</td>\n",
              "      <td>0.888738</td>\n",
              "      <td>0.101156</td>\n",
              "      <td>-0.335891</td>\n",
              "      <td>...</td>\n",
              "      <td>-0.026062</td>\n",
              "      <td>-0.147273</td>\n",
              "      <td>-0.370162</td>\n",
              "      <td>-0.077841</td>\n",
              "      <td>-0.289502</td>\n",
              "      <td>-0.545902</td>\n",
              "      <td>0.140753</td>\n",
              "      <td>-0.070779</td>\n",
              "      <td>-0.901623</td>\n",
              "      <td>0.589658</td>\n",
              "      <td>0.235909</td>\n",
              "      <td>0.331418</td>\n",
              "      <td>-0.317092</td>\n",
              "      <td>0.156893</td>\n",
              "      <td>0.497307</td>\n",
              "      <td>-0.292590</td>\n",
              "      <td>0.140456</td>\n",
              "      <td>-0.468713</td>\n",
              "      <td>0.217002</td>\n",
              "      <td>0.330954</td>\n",
              "      <td>-0.367236</td>\n",
              "      <td>0.586990</td>\n",
              "      <td>-0.152602</td>\n",
              "      <td>0.448376</td>\n",
              "      <td>0.544645</td>\n",
              "      <td>-0.025061</td>\n",
              "      <td>-0.043619</td>\n",
              "      <td>0.339292</td>\n",
              "      <td>-0.132702</td>\n",
              "      <td>-0.223200</td>\n",
              "      <td>0.018514</td>\n",
              "      <td>-0.474079</td>\n",
              "      <td>-0.788808</td>\n",
              "      <td>-0.308466</td>\n",
              "      <td>-0.020856</td>\n",
              "      <td>-0.140460</td>\n",
              "      <td>0.636830</td>\n",
              "      <td>0.265056</td>\n",
              "      <td>0.078004</td>\n",
              "      <td>-0.453766</td>\n",
              "    </tr>\n",
              "    <tr>\n",
              "      <th>3</th>\n",
              "      <td>0.453557</td>\n",
              "      <td>0.398644</td>\n",
              "      <td>0.056489</td>\n",
              "      <td>-0.619565</td>\n",
              "      <td>-0.606274</td>\n",
              "      <td>-0.156992</td>\n",
              "      <td>0.078922</td>\n",
              "      <td>0.446199</td>\n",
              "      <td>-0.146416</td>\n",
              "      <td>0.022790</td>\n",
              "      <td>-0.165884</td>\n",
              "      <td>-0.959759</td>\n",
              "      <td>0.202783</td>\n",
              "      <td>0.009399</td>\n",
              "      <td>-0.107456</td>\n",
              "      <td>-0.247783</td>\n",
              "      <td>-0.002709</td>\n",
              "      <td>-0.189059</td>\n",
              "      <td>0.104591</td>\n",
              "      <td>0.165224</td>\n",
              "      <td>0.810089</td>\n",
              "      <td>0.289198</td>\n",
              "      <td>-0.200411</td>\n",
              "      <td>0.123212</td>\n",
              "      <td>0.501037</td>\n",
              "      <td>0.993115</td>\n",
              "      <td>0.046015</td>\n",
              "      <td>-0.335713</td>\n",
              "      <td>-0.829718</td>\n",
              "      <td>0.405127</td>\n",
              "      <td>-0.419746</td>\n",
              "      <td>-0.374480</td>\n",
              "      <td>0.542596</td>\n",
              "      <td>0.166895</td>\n",
              "      <td>-0.344825</td>\n",
              "      <td>0.107750</td>\n",
              "      <td>-0.274986</td>\n",
              "      <td>0.184914</td>\n",
              "      <td>0.042230</td>\n",
              "      <td>0.403844</td>\n",
              "      <td>...</td>\n",
              "      <td>-0.783196</td>\n",
              "      <td>0.141197</td>\n",
              "      <td>-0.542827</td>\n",
              "      <td>-0.101611</td>\n",
              "      <td>-0.135889</td>\n",
              "      <td>-0.303222</td>\n",
              "      <td>0.519968</td>\n",
              "      <td>-0.011878</td>\n",
              "      <td>-0.169235</td>\n",
              "      <td>0.242730</td>\n",
              "      <td>-0.386186</td>\n",
              "      <td>-0.022197</td>\n",
              "      <td>-0.274242</td>\n",
              "      <td>0.288909</td>\n",
              "      <td>-0.494699</td>\n",
              "      <td>0.079662</td>\n",
              "      <td>-0.422453</td>\n",
              "      <td>0.009897</td>\n",
              "      <td>0.146780</td>\n",
              "      <td>-0.420504</td>\n",
              "      <td>-0.770643</td>\n",
              "      <td>0.035113</td>\n",
              "      <td>-0.112189</td>\n",
              "      <td>-0.755263</td>\n",
              "      <td>-0.438742</td>\n",
              "      <td>0.318651</td>\n",
              "      <td>0.036980</td>\n",
              "      <td>0.524817</td>\n",
              "      <td>-0.198226</td>\n",
              "      <td>-0.113962</td>\n",
              "      <td>0.238495</td>\n",
              "      <td>-0.561382</td>\n",
              "      <td>-0.317718</td>\n",
              "      <td>-0.063798</td>\n",
              "      <td>-0.419158</td>\n",
              "      <td>-0.107482</td>\n",
              "      <td>0.348031</td>\n",
              "      <td>-0.115069</td>\n",
              "      <td>0.029396</td>\n",
              "      <td>0.236423</td>\n",
              "    </tr>\n",
              "    <tr>\n",
              "      <th>4</th>\n",
              "      <td>-0.071922</td>\n",
              "      <td>-0.036420</td>\n",
              "      <td>-0.071910</td>\n",
              "      <td>0.208959</td>\n",
              "      <td>-0.188520</td>\n",
              "      <td>-0.707835</td>\n",
              "      <td>0.090304</td>\n",
              "      <td>-0.096504</td>\n",
              "      <td>0.302876</td>\n",
              "      <td>-0.034359</td>\n",
              "      <td>-0.284622</td>\n",
              "      <td>-0.098711</td>\n",
              "      <td>-0.588943</td>\n",
              "      <td>-0.484908</td>\n",
              "      <td>-0.079340</td>\n",
              "      <td>-0.090356</td>\n",
              "      <td>-0.034514</td>\n",
              "      <td>0.411405</td>\n",
              "      <td>-0.014368</td>\n",
              "      <td>-0.124904</td>\n",
              "      <td>-0.318052</td>\n",
              "      <td>-0.169159</td>\n",
              "      <td>-0.678239</td>\n",
              "      <td>-0.503626</td>\n",
              "      <td>-0.462733</td>\n",
              "      <td>0.129259</td>\n",
              "      <td>0.078144</td>\n",
              "      <td>0.538628</td>\n",
              "      <td>0.107989</td>\n",
              "      <td>0.165444</td>\n",
              "      <td>-0.413219</td>\n",
              "      <td>0.159881</td>\n",
              "      <td>-0.224595</td>\n",
              "      <td>0.319907</td>\n",
              "      <td>0.147839</td>\n",
              "      <td>-0.935304</td>\n",
              "      <td>-0.357932</td>\n",
              "      <td>-0.678712</td>\n",
              "      <td>-0.433295</td>\n",
              "      <td>-0.159361</td>\n",
              "      <td>...</td>\n",
              "      <td>-0.069861</td>\n",
              "      <td>-0.285853</td>\n",
              "      <td>-0.292760</td>\n",
              "      <td>-0.183892</td>\n",
              "      <td>-0.105043</td>\n",
              "      <td>0.095826</td>\n",
              "      <td>-0.685411</td>\n",
              "      <td>0.479705</td>\n",
              "      <td>-0.460079</td>\n",
              "      <td>0.051050</td>\n",
              "      <td>-0.255674</td>\n",
              "      <td>0.258285</td>\n",
              "      <td>-0.156222</td>\n",
              "      <td>0.206922</td>\n",
              "      <td>0.192945</td>\n",
              "      <td>0.216316</td>\n",
              "      <td>0.478050</td>\n",
              "      <td>0.026836</td>\n",
              "      <td>-0.554015</td>\n",
              "      <td>0.002822</td>\n",
              "      <td>-0.153591</td>\n",
              "      <td>0.398148</td>\n",
              "      <td>0.128454</td>\n",
              "      <td>0.102531</td>\n",
              "      <td>0.074492</td>\n",
              "      <td>-0.557177</td>\n",
              "      <td>0.529949</td>\n",
              "      <td>-0.357455</td>\n",
              "      <td>0.150763</td>\n",
              "      <td>0.563142</td>\n",
              "      <td>0.504888</td>\n",
              "      <td>0.682642</td>\n",
              "      <td>-0.404463</td>\n",
              "      <td>0.321455</td>\n",
              "      <td>0.010462</td>\n",
              "      <td>-0.089817</td>\n",
              "      <td>-0.300076</td>\n",
              "      <td>0.233856</td>\n",
              "      <td>0.189977</td>\n",
              "      <td>0.513066</td>\n",
              "    </tr>\n",
              "  </tbody>\n",
              "</table>\n",
              "<p>5 rows × 128 columns</p>\n",
              "</div>"
            ],
            "text/plain": [
              "        0         1         2    ...       125       126       127\n",
              "0  0.000000  0.000000  0.000000  ...  0.000000  0.000000  0.000000\n",
              "1 -0.106793 -0.152478  0.174593  ...  0.473533  0.026671 -0.037469\n",
              "2 -0.241506  0.512962 -0.136076  ...  0.265056  0.078004 -0.453766\n",
              "3  0.453557  0.398644  0.056489  ... -0.115069  0.029396  0.236423\n",
              "4 -0.071922 -0.036420 -0.071910  ...  0.233856  0.189977  0.513066\n",
              "\n",
              "[5 rows x 128 columns]"
            ]
          },
          "metadata": {
            "tags": []
          },
          "execution_count": 36
        }
      ]
    },
    {
      "cell_type": "code",
      "metadata": {
        "id": "693b7d97-4ca4-450a-95c7-233d511aa170",
        "colab": {
          "base_uri": "https://localhost:8080/"
        },
        "outputId": "184185f1-ac19-4967-b216-7b88d84b52e6"
      },
      "source": [
        ""
      ],
      "id": "693b7d97-4ca4-450a-95c7-233d511aa170",
      "execution_count": 34,
      "outputs": [
        {
          "output_type": "execute_result",
          "data": {
            "text/plain": [
              "tensor([[ 0.0000,  0.0000,  0.0000,  ...,  0.0000,  0.0000,  0.0000],\n",
              "        [-0.1068, -0.1525,  0.1746,  ...,  0.4735,  0.0267, -0.0375],\n",
              "        [-0.2415,  0.5130, -0.1361,  ...,  0.2651,  0.0780, -0.4538],\n",
              "        ...,\n",
              "        [-0.2304, -0.0641,  0.2690,  ..., -0.5462, -0.0945, -0.8044],\n",
              "        [-0.1340, -0.0192,  0.0369,  ..., -0.4042,  0.5964, -0.5951],\n",
              "        [ 0.2453, -0.1276,  0.0532,  ...,  0.5346,  0.5866, -0.2343]],\n",
              "       grad_fn=<EmbeddingBackward>)"
            ]
          },
          "metadata": {
            "tags": []
          },
          "execution_count": 34
        }
      ]
    },
    {
      "cell_type": "code",
      "metadata": {
        "colab": {
          "base_uri": "https://localhost:8080/"
        },
        "id": "kU51VIOI_hZe",
        "outputId": "03d4befc-d13e-4b64-f588-29fbe9ca7fb8"
      },
      "source": [
        "from sklearn.neighbors import NearestNeighbors\n",
        "model_knn = NearestNeighbors(metric='cosine', algorithm='brute', n_neighbors=20, n_jobs=-1)\n",
        "model_knn.fit(df)"
      ],
      "id": "kU51VIOI_hZe",
      "execution_count": 38,
      "outputs": [
        {
          "output_type": "execute_result",
          "data": {
            "text/plain": [
              "NearestNeighbors(algorithm='brute', leaf_size=30, metric='cosine',\n",
              "                 metric_params=None, n_jobs=-1, n_neighbors=20, p=2,\n",
              "                 radius=1.0)"
            ]
          },
          "metadata": {
            "tags": []
          },
          "execution_count": 38
        }
      ]
    },
    {
      "cell_type": "code",
      "metadata": {
        "colab": {
          "base_uri": "https://localhost:8080/"
        },
        "id": "TEPTQ087Akat",
        "outputId": "1287f44d-fd34-47aa-84fa-0982dc7e2180"
      },
      "source": [
        ""
      ],
      "id": "TEPTQ087Akat",
      "execution_count": 43,
      "outputs": [
        {
          "output_type": "execute_result",
          "data": {
            "text/plain": [
              "array([[ 7.22714663e-02,  9.46157500e-02, -6.49613589e-02,\n",
              "        -1.66363344e-01, -2.01720774e-01, -7.95711130e-02,\n",
              "        -2.27984235e-01, -2.01148912e-01,  2.25153074e-01,\n",
              "         4.66657132e-01, -4.80752319e-01, -3.15253615e-01,\n",
              "        -9.71156433e-02, -9.70034823e-02, -2.86173940e-01,\n",
              "         1.44153103e-01, -1.71036780e-01,  4.04208392e-01,\n",
              "        -1.78045213e-01,  2.18572274e-01,  2.19562769e-01,\n",
              "        -3.83157134e-01,  3.35806042e-01,  2.03913763e-01,\n",
              "         1.12704761e-01,  2.97145337e-01,  3.14466830e-04,\n",
              "         1.75006449e-01, -1.20509557e-01, -1.64142638e-01,\n",
              "         2.30236456e-01, -1.98494673e-01,  2.70854264e-01,\n",
              "        -3.15107346e-01, -1.54416025e-01, -7.40623549e-02,\n",
              "        -3.50594819e-01, -1.43485606e-01,  7.71483928e-02,\n",
              "         2.22622603e-01, -4.15431648e-01,  4.71714251e-02,\n",
              "         4.06728595e-01,  2.05869004e-02, -4.04450186e-02,\n",
              "         1.33015037e-01,  1.72402352e-01,  5.72291110e-03,\n",
              "        -2.83082813e-01,  1.38139069e-01, -2.32121557e-01,\n",
              "        -3.44364971e-01,  1.04168802e-01, -3.04178268e-01,\n",
              "        -2.29902685e-01, -1.06228225e-01,  8.18143636e-02,\n",
              "         3.70908022e-01, -8.94554257e-02, -1.26064301e-01,\n",
              "        -2.14863822e-01,  3.03172052e-01, -2.39475951e-01,\n",
              "         1.75555736e-01, -1.75056115e-01, -1.07572481e-01,\n",
              "        -3.56272429e-01, -2.81015728e-02,  2.08716035e-01,\n",
              "         1.01536296e-01, -9.66228023e-02,  4.83348280e-01,\n",
              "         6.23660423e-02,  2.13151261e-01,  3.55949044e-01,\n",
              "        -2.24531442e-01,  4.75289747e-02, -2.85860807e-01,\n",
              "         4.91877869e-02, -1.38434842e-01, -3.51340204e-01,\n",
              "        -1.21630207e-01, -2.83824384e-01, -6.59332611e-03,\n",
              "         3.71610165e-01, -2.89304793e-01,  1.99467063e-01,\n",
              "        -9.23392102e-02, -3.28132033e-01,  6.68791728e-03,\n",
              "         1.08772136e-01,  2.46334076e-01, -2.73695886e-01,\n",
              "         1.70530379e-01, -2.34553367e-01, -3.71230006e-01,\n",
              "        -8.05577412e-02, -1.61775008e-01, -1.70684010e-01,\n",
              "        -1.91391304e-01, -2.04392284e-01,  1.90886661e-01,\n",
              "        -1.88003615e-01, -6.67460710e-02, -1.78631499e-01,\n",
              "        -4.02422279e-01, -3.20302635e-01, -1.65353268e-01,\n",
              "        -2.96445251e-01,  4.42885339e-01, -4.11126137e-01,\n",
              "         2.75228798e-01,  1.38603732e-01, -4.59134758e-01,\n",
              "         2.90497661e-01,  6.53420165e-02,  1.39230818e-01,\n",
              "         8.19835663e-02, -1.82043210e-01,  1.77399874e-01,\n",
              "        -4.32830662e-01,  3.22846562e-01,  5.05407512e-01,\n",
              "         8.77251476e-02, -2.68740714e-01,  5.70158325e-02,\n",
              "        -1.00871593e-01, -1.38758242e-01]], dtype=float32)"
            ]
          },
          "metadata": {
            "tags": []
          },
          "execution_count": 43
        }
      ]
    },
    {
      "cell_type": "code",
      "metadata": {
        "colab": {
          "base_uri": "https://localhost:8080/"
        },
        "id": "C1wl-MCrAHAZ",
        "outputId": "387a6aee-4c32-4626-f458-1c650b5f7649"
      },
      "source": [
        "idx = 100\n",
        "print('着目単語: ', idx2word[idx])\n",
        "distances, indices = model_knn.kneighbors(df.iloc[idx].values.reshape(1,-1), n_neighbors=20)\n",
        "# 似ている単語top20:\n",
        "print('='*20)\n",
        "print('似ている単語top20:')\n",
        "print('='*20)\n",
        "for i in indices[0]:\n",
        "    print(idx2word[i])"
      ],
      "id": "C1wl-MCrAHAZ",
      "execution_count": 55,
      "outputs": [
        {
          "output_type": "stream",
          "text": [
            "着目単語:  番組\n",
            "====================\n",
            "似ている単語top20:\n",
            "====================\n",
            "番組\n",
            "NHK\n",
            "テレビ番組\n",
            "FM\n",
            "ラジオ番組\n",
            "ラジオ\n",
            "放送\n",
            "毎週\n",
            "BS\n",
            "録画\n",
            "音楽番組\n",
            "オンエア\n",
            "放映\n",
            "YouTube\n",
            "エアチェック\n",
            "局\n",
            "特集\n",
            "紹介\n",
            "TV番組\n",
            "深夜\n"
          ],
          "name": "stdout"
        }
      ]
    },
    {
      "cell_type": "code",
      "metadata": {
        "colab": {
          "base_uri": "https://localhost:8080/"
        },
        "id": "s0k0SWDJAc4J",
        "outputId": "ceb468a1-e7b5-403e-b05b-f185fdb5fb20"
      },
      "source": [
        "idx = 200\n",
        "print('着目単語: ', idx2word[idx])\n",
        "distances, indices = model_knn.kneighbors(df.iloc[idx].values.reshape(1,-1), n_neighbors=20)\n",
        "# 似ている単語top20:\n",
        "print('='*20)\n",
        "print('似ている単語top20:')\n",
        "print('='*20)\n",
        "for i in indices[0]:\n",
        "    print(idx2word[i])"
      ],
      "id": "s0k0SWDJAc4J",
      "execution_count": 56,
      "outputs": [
        {
          "output_type": "stream",
          "text": [
            "着目単語:  一位\n",
            "====================\n",
            "似ている単語top20:\n",
            "====================\n",
            "一位\n",
            "ランキング\n",
            "位\n",
            "Billboard\n",
            "ランクイン\n",
            "順位\n",
            "チャート\n",
            "初登場\n",
            "全米\n",
            "ヒット\n",
            "首位\n",
            "ナンバーワン\n",
            "売上\n",
            "売り上げ\n",
            "全英\n",
            "認定\n",
            "上位\n",
            "歴代\n",
            "ヒットチャート\n",
            "全世界\n"
          ],
          "name": "stdout"
        }
      ]
    },
    {
      "cell_type": "code",
      "metadata": {
        "colab": {
          "base_uri": "https://localhost:8080/"
        },
        "id": "-ropCps0Axhj",
        "outputId": "e1dc7e5c-e3a7-4f94-8b41-c5ea4943cd83"
      },
      "source": [
        "idx = 1000\n",
        "print('着目単語: ', idx2word[idx])\n",
        "distances, indices = model_knn.kneighbors(df.iloc[idx].values.reshape(1,-1), n_neighbors=20)\n",
        "# 似ている単語top20:\n",
        "print('='*20)\n",
        "print('似ている単語top20:')\n",
        "print('='*20)\n",
        "for i in indices[0]:\n",
        "    print(idx2word[i])"
      ],
      "id": "-ropCps0Axhj",
      "execution_count": 57,
      "outputs": [
        {
          "output_type": "stream",
          "text": [
            "着目単語:  のり\n",
            "====================\n",
            "似ている単語top20:\n",
            "====================\n",
            "のり\n",
            "ノリ\n",
            "ノリノリ\n",
            "アクセント\n",
            "ゴリ\n",
            "ロン・ウッド\n",
            "いいね\n",
            "メロー\n",
            "GUHROOVY\n",
            "ブギー\n",
            "ば\n",
            "Hey\n",
            "ちょ\n",
            "アップテンポ\n",
            "Been\n",
            "ご機嫌\n",
            "Yeah\n",
            "ティッシュ。\n",
            "ラップ\n",
            "脚気\n"
          ],
          "name": "stdout"
        }
      ]
    },
    {
      "cell_type": "code",
      "metadata": {
        "id": "f5kZ6EMhBofv"
      },
      "source": [
        ""
      ],
      "id": "f5kZ6EMhBofv",
      "execution_count": null,
      "outputs": []
    }
  ]
}