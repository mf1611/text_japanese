{
  "nbformat": 4,
  "nbformat_minor": 5,
  "metadata": {
    "kernelspec": {
      "display_name": "Python 3 (ipykernel)",
      "language": "python",
      "name": "python3"
    },
    "language_info": {
      "codemirror_mode": {
        "name": "ipython",
        "version": 3
      },
      "file_extension": ".py",
      "mimetype": "text/x-python",
      "name": "python",
      "nbconvert_exporter": "python",
      "pygments_lexer": "ipython3",
      "version": "3.8.6"
    },
    "colab": {
      "name": "[colab]word2vec_train_pytorch.ipynb",
      "provenance": [],
      "collapsed_sections": []
    },
    "accelerator": "GPU",
    "widgets": {
      "application/vnd.jupyter.widget-state+json": {
        "9820e4e628dc4e12828b749131a01417": {
          "model_module": "@jupyter-widgets/controls",
          "model_name": "HBoxModel",
          "state": {
            "_view_name": "HBoxView",
            "_dom_classes": [],
            "_model_name": "HBoxModel",
            "_view_module": "@jupyter-widgets/controls",
            "_model_module_version": "1.5.0",
            "_view_count": null,
            "_view_module_version": "1.5.0",
            "box_style": "",
            "layout": "IPY_MODEL_5f61939f77044f78912b515348043fe3",
            "_model_module": "@jupyter-widgets/controls",
            "children": [
              "IPY_MODEL_e030768fec8a43babf834cbb8433412e",
              "IPY_MODEL_ab32ebb639ff4ff68fab83f36fc8a258"
            ]
          }
        },
        "5f61939f77044f78912b515348043fe3": {
          "model_module": "@jupyter-widgets/base",
          "model_name": "LayoutModel",
          "state": {
            "_view_name": "LayoutView",
            "grid_template_rows": null,
            "right": null,
            "justify_content": null,
            "_view_module": "@jupyter-widgets/base",
            "overflow": null,
            "_model_module_version": "1.2.0",
            "_view_count": null,
            "flex_flow": null,
            "width": null,
            "min_width": null,
            "border": null,
            "align_items": null,
            "bottom": null,
            "_model_module": "@jupyter-widgets/base",
            "top": null,
            "grid_column": null,
            "overflow_y": null,
            "overflow_x": null,
            "grid_auto_flow": null,
            "grid_area": null,
            "grid_template_columns": null,
            "flex": null,
            "_model_name": "LayoutModel",
            "justify_items": null,
            "grid_row": null,
            "max_height": null,
            "align_content": null,
            "visibility": null,
            "align_self": null,
            "height": null,
            "min_height": null,
            "padding": null,
            "grid_auto_rows": null,
            "grid_gap": null,
            "max_width": null,
            "order": null,
            "_view_module_version": "1.2.0",
            "grid_template_areas": null,
            "object_position": null,
            "object_fit": null,
            "grid_auto_columns": null,
            "margin": null,
            "display": null,
            "left": null
          }
        },
        "e030768fec8a43babf834cbb8433412e": {
          "model_module": "@jupyter-widgets/controls",
          "model_name": "FloatProgressModel",
          "state": {
            "_view_name": "ProgressView",
            "style": "IPY_MODEL_b3cc2fd3a1ab4820b6db397d845a00bd",
            "_dom_classes": [],
            "description": "100%",
            "_model_name": "FloatProgressModel",
            "bar_style": "success",
            "max": 262256,
            "_view_module": "@jupyter-widgets/controls",
            "_model_module_version": "1.5.0",
            "value": 262256,
            "_view_count": null,
            "_view_module_version": "1.5.0",
            "orientation": "horizontal",
            "min": 0,
            "description_tooltip": null,
            "_model_module": "@jupyter-widgets/controls",
            "layout": "IPY_MODEL_c6f250f146ae458dba3d3f53b79a72be"
          }
        },
        "ab32ebb639ff4ff68fab83f36fc8a258": {
          "model_module": "@jupyter-widgets/controls",
          "model_name": "HTMLModel",
          "state": {
            "_view_name": "HTMLView",
            "style": "IPY_MODEL_6566bcd73b8b419f9d89b0f149928b13",
            "_dom_classes": [],
            "description": "",
            "_model_name": "HTMLModel",
            "placeholder": "​",
            "_view_module": "@jupyter-widgets/controls",
            "_model_module_version": "1.5.0",
            "value": " 262256/262256 [00:55&lt;00:00, 4747.20it/s]",
            "_view_count": null,
            "_view_module_version": "1.5.0",
            "description_tooltip": null,
            "_model_module": "@jupyter-widgets/controls",
            "layout": "IPY_MODEL_a1a5c53274ae4cc8b14c12a0373fdb2d"
          }
        },
        "b3cc2fd3a1ab4820b6db397d845a00bd": {
          "model_module": "@jupyter-widgets/controls",
          "model_name": "ProgressStyleModel",
          "state": {
            "_view_name": "StyleView",
            "_model_name": "ProgressStyleModel",
            "description_width": "initial",
            "_view_module": "@jupyter-widgets/base",
            "_model_module_version": "1.5.0",
            "_view_count": null,
            "_view_module_version": "1.2.0",
            "bar_color": null,
            "_model_module": "@jupyter-widgets/controls"
          }
        },
        "c6f250f146ae458dba3d3f53b79a72be": {
          "model_module": "@jupyter-widgets/base",
          "model_name": "LayoutModel",
          "state": {
            "_view_name": "LayoutView",
            "grid_template_rows": null,
            "right": null,
            "justify_content": null,
            "_view_module": "@jupyter-widgets/base",
            "overflow": null,
            "_model_module_version": "1.2.0",
            "_view_count": null,
            "flex_flow": null,
            "width": null,
            "min_width": null,
            "border": null,
            "align_items": null,
            "bottom": null,
            "_model_module": "@jupyter-widgets/base",
            "top": null,
            "grid_column": null,
            "overflow_y": null,
            "overflow_x": null,
            "grid_auto_flow": null,
            "grid_area": null,
            "grid_template_columns": null,
            "flex": null,
            "_model_name": "LayoutModel",
            "justify_items": null,
            "grid_row": null,
            "max_height": null,
            "align_content": null,
            "visibility": null,
            "align_self": null,
            "height": null,
            "min_height": null,
            "padding": null,
            "grid_auto_rows": null,
            "grid_gap": null,
            "max_width": null,
            "order": null,
            "_view_module_version": "1.2.0",
            "grid_template_areas": null,
            "object_position": null,
            "object_fit": null,
            "grid_auto_columns": null,
            "margin": null,
            "display": null,
            "left": null
          }
        },
        "6566bcd73b8b419f9d89b0f149928b13": {
          "model_module": "@jupyter-widgets/controls",
          "model_name": "DescriptionStyleModel",
          "state": {
            "_view_name": "StyleView",
            "_model_name": "DescriptionStyleModel",
            "description_width": "",
            "_view_module": "@jupyter-widgets/base",
            "_model_module_version": "1.5.0",
            "_view_count": null,
            "_view_module_version": "1.2.0",
            "_model_module": "@jupyter-widgets/controls"
          }
        },
        "a1a5c53274ae4cc8b14c12a0373fdb2d": {
          "model_module": "@jupyter-widgets/base",
          "model_name": "LayoutModel",
          "state": {
            "_view_name": "LayoutView",
            "grid_template_rows": null,
            "right": null,
            "justify_content": null,
            "_view_module": "@jupyter-widgets/base",
            "overflow": null,
            "_model_module_version": "1.2.0",
            "_view_count": null,
            "flex_flow": null,
            "width": null,
            "min_width": null,
            "border": null,
            "align_items": null,
            "bottom": null,
            "_model_module": "@jupyter-widgets/base",
            "top": null,
            "grid_column": null,
            "overflow_y": null,
            "overflow_x": null,
            "grid_auto_flow": null,
            "grid_area": null,
            "grid_template_columns": null,
            "flex": null,
            "_model_name": "LayoutModel",
            "justify_items": null,
            "grid_row": null,
            "max_height": null,
            "align_content": null,
            "visibility": null,
            "align_self": null,
            "height": null,
            "min_height": null,
            "padding": null,
            "grid_auto_rows": null,
            "grid_gap": null,
            "max_width": null,
            "order": null,
            "_view_module_version": "1.2.0",
            "grid_template_areas": null,
            "object_position": null,
            "object_fit": null,
            "grid_auto_columns": null,
            "margin": null,
            "display": null,
            "left": null
          }
        },
        "3506e391c81a44f1ab01a04a06e2ecee": {
          "model_module": "@jupyter-widgets/controls",
          "model_name": "HBoxModel",
          "state": {
            "_view_name": "HBoxView",
            "_dom_classes": [],
            "_model_name": "HBoxModel",
            "_view_module": "@jupyter-widgets/controls",
            "_model_module_version": "1.5.0",
            "_view_count": null,
            "_view_module_version": "1.5.0",
            "box_style": "",
            "layout": "IPY_MODEL_64fbd4b97f144903ae765f4469a9cf73",
            "_model_module": "@jupyter-widgets/controls",
            "children": [
              "IPY_MODEL_b9a18b68b69d43d492ac7e70c98f1685",
              "IPY_MODEL_458f2114aee04614baea14961135f266"
            ]
          }
        },
        "64fbd4b97f144903ae765f4469a9cf73": {
          "model_module": "@jupyter-widgets/base",
          "model_name": "LayoutModel",
          "state": {
            "_view_name": "LayoutView",
            "grid_template_rows": null,
            "right": null,
            "justify_content": null,
            "_view_module": "@jupyter-widgets/base",
            "overflow": null,
            "_model_module_version": "1.2.0",
            "_view_count": null,
            "flex_flow": null,
            "width": null,
            "min_width": null,
            "border": null,
            "align_items": null,
            "bottom": null,
            "_model_module": "@jupyter-widgets/base",
            "top": null,
            "grid_column": null,
            "overflow_y": null,
            "overflow_x": null,
            "grid_auto_flow": null,
            "grid_area": null,
            "grid_template_columns": null,
            "flex": null,
            "_model_name": "LayoutModel",
            "justify_items": null,
            "grid_row": null,
            "max_height": null,
            "align_content": null,
            "visibility": null,
            "align_self": null,
            "height": null,
            "min_height": null,
            "padding": null,
            "grid_auto_rows": null,
            "grid_gap": null,
            "max_width": null,
            "order": null,
            "_view_module_version": "1.2.0",
            "grid_template_areas": null,
            "object_position": null,
            "object_fit": null,
            "grid_auto_columns": null,
            "margin": null,
            "display": null,
            "left": null
          }
        },
        "b9a18b68b69d43d492ac7e70c98f1685": {
          "model_module": "@jupyter-widgets/controls",
          "model_name": "FloatProgressModel",
          "state": {
            "_view_name": "ProgressView",
            "style": "IPY_MODEL_7f06e37fe8ef403eb37ed0faa6bbc43f",
            "_dom_classes": [],
            "description": "  0%",
            "_model_name": "FloatProgressModel",
            "bar_style": "danger",
            "max": 74791,
            "_view_module": "@jupyter-widgets/controls",
            "_model_module_version": "1.5.0",
            "value": 0,
            "_view_count": null,
            "_view_module_version": "1.5.0",
            "orientation": "horizontal",
            "min": 0,
            "description_tooltip": null,
            "_model_module": "@jupyter-widgets/controls",
            "layout": "IPY_MODEL_9492720c6d5b467ea738f4ac9f226ded"
          }
        },
        "458f2114aee04614baea14961135f266": {
          "model_module": "@jupyter-widgets/controls",
          "model_name": "HTMLModel",
          "state": {
            "_view_name": "HTMLView",
            "style": "IPY_MODEL_cdeb541446484959b55c4478d85716b3",
            "_dom_classes": [],
            "description": "",
            "_model_name": "HTMLModel",
            "placeholder": "​",
            "_view_module": "@jupyter-widgets/controls",
            "_model_module_version": "1.5.0",
            "value": " 0/74791 [00:00&lt;?, ?it/s]",
            "_view_count": null,
            "_view_module_version": "1.5.0",
            "description_tooltip": null,
            "_model_module": "@jupyter-widgets/controls",
            "layout": "IPY_MODEL_6160b50cf82748a5ac519659cb0361e8"
          }
        },
        "7f06e37fe8ef403eb37ed0faa6bbc43f": {
          "model_module": "@jupyter-widgets/controls",
          "model_name": "ProgressStyleModel",
          "state": {
            "_view_name": "StyleView",
            "_model_name": "ProgressStyleModel",
            "description_width": "initial",
            "_view_module": "@jupyter-widgets/base",
            "_model_module_version": "1.5.0",
            "_view_count": null,
            "_view_module_version": "1.2.0",
            "bar_color": null,
            "_model_module": "@jupyter-widgets/controls"
          }
        },
        "9492720c6d5b467ea738f4ac9f226ded": {
          "model_module": "@jupyter-widgets/base",
          "model_name": "LayoutModel",
          "state": {
            "_view_name": "LayoutView",
            "grid_template_rows": null,
            "right": null,
            "justify_content": null,
            "_view_module": "@jupyter-widgets/base",
            "overflow": null,
            "_model_module_version": "1.2.0",
            "_view_count": null,
            "flex_flow": null,
            "width": null,
            "min_width": null,
            "border": null,
            "align_items": null,
            "bottom": null,
            "_model_module": "@jupyter-widgets/base",
            "top": null,
            "grid_column": null,
            "overflow_y": null,
            "overflow_x": null,
            "grid_auto_flow": null,
            "grid_area": null,
            "grid_template_columns": null,
            "flex": null,
            "_model_name": "LayoutModel",
            "justify_items": null,
            "grid_row": null,
            "max_height": null,
            "align_content": null,
            "visibility": null,
            "align_self": null,
            "height": null,
            "min_height": null,
            "padding": null,
            "grid_auto_rows": null,
            "grid_gap": null,
            "max_width": null,
            "order": null,
            "_view_module_version": "1.2.0",
            "grid_template_areas": null,
            "object_position": null,
            "object_fit": null,
            "grid_auto_columns": null,
            "margin": null,
            "display": null,
            "left": null
          }
        },
        "cdeb541446484959b55c4478d85716b3": {
          "model_module": "@jupyter-widgets/controls",
          "model_name": "DescriptionStyleModel",
          "state": {
            "_view_name": "StyleView",
            "_model_name": "DescriptionStyleModel",
            "description_width": "",
            "_view_module": "@jupyter-widgets/base",
            "_model_module_version": "1.5.0",
            "_view_count": null,
            "_view_module_version": "1.2.0",
            "_model_module": "@jupyter-widgets/controls"
          }
        },
        "6160b50cf82748a5ac519659cb0361e8": {
          "model_module": "@jupyter-widgets/base",
          "model_name": "LayoutModel",
          "state": {
            "_view_name": "LayoutView",
            "grid_template_rows": null,
            "right": null,
            "justify_content": null,
            "_view_module": "@jupyter-widgets/base",
            "overflow": null,
            "_model_module_version": "1.2.0",
            "_view_count": null,
            "flex_flow": null,
            "width": null,
            "min_width": null,
            "border": null,
            "align_items": null,
            "bottom": null,
            "_model_module": "@jupyter-widgets/base",
            "top": null,
            "grid_column": null,
            "overflow_y": null,
            "overflow_x": null,
            "grid_auto_flow": null,
            "grid_area": null,
            "grid_template_columns": null,
            "flex": null,
            "_model_name": "LayoutModel",
            "justify_items": null,
            "grid_row": null,
            "max_height": null,
            "align_content": null,
            "visibility": null,
            "align_self": null,
            "height": null,
            "min_height": null,
            "padding": null,
            "grid_auto_rows": null,
            "grid_gap": null,
            "max_width": null,
            "order": null,
            "_view_module_version": "1.2.0",
            "grid_template_areas": null,
            "object_position": null,
            "object_fit": null,
            "grid_auto_columns": null,
            "margin": null,
            "display": null,
            "left": null
          }
        },
        "4062426b289042669bcf31a838ec1295": {
          "model_module": "@jupyter-widgets/controls",
          "model_name": "HBoxModel",
          "state": {
            "_view_name": "HBoxView",
            "_dom_classes": [],
            "_model_name": "HBoxModel",
            "_view_module": "@jupyter-widgets/controls",
            "_model_module_version": "1.5.0",
            "_view_count": null,
            "_view_module_version": "1.5.0",
            "box_style": "",
            "layout": "IPY_MODEL_3553959adf3e449a875ba70f011c433c",
            "_model_module": "@jupyter-widgets/controls",
            "children": [
              "IPY_MODEL_0cda92996f2d42399634b4954fd2ec34",
              "IPY_MODEL_eb73846f347a42eb9ad3d8175ab41ade"
            ]
          }
        },
        "3553959adf3e449a875ba70f011c433c": {
          "model_module": "@jupyter-widgets/base",
          "model_name": "LayoutModel",
          "state": {
            "_view_name": "LayoutView",
            "grid_template_rows": null,
            "right": null,
            "justify_content": null,
            "_view_module": "@jupyter-widgets/base",
            "overflow": null,
            "_model_module_version": "1.2.0",
            "_view_count": null,
            "flex_flow": null,
            "width": null,
            "min_width": null,
            "border": null,
            "align_items": null,
            "bottom": null,
            "_model_module": "@jupyter-widgets/base",
            "top": null,
            "grid_column": null,
            "overflow_y": null,
            "overflow_x": null,
            "grid_auto_flow": null,
            "grid_area": null,
            "grid_template_columns": null,
            "flex": null,
            "_model_name": "LayoutModel",
            "justify_items": null,
            "grid_row": null,
            "max_height": null,
            "align_content": null,
            "visibility": null,
            "align_self": null,
            "height": null,
            "min_height": null,
            "padding": null,
            "grid_auto_rows": null,
            "grid_gap": null,
            "max_width": null,
            "order": null,
            "_view_module_version": "1.2.0",
            "grid_template_areas": null,
            "object_position": null,
            "object_fit": null,
            "grid_auto_columns": null,
            "margin": null,
            "display": null,
            "left": null
          }
        },
        "0cda92996f2d42399634b4954fd2ec34": {
          "model_module": "@jupyter-widgets/controls",
          "model_name": "FloatProgressModel",
          "state": {
            "_view_name": "ProgressView",
            "style": "IPY_MODEL_ae612e2384164e98a590cb42a5d5b926",
            "_dom_classes": [],
            "description": "100%",
            "_model_name": "FloatProgressModel",
            "bar_style": "success",
            "max": 74791,
            "_view_module": "@jupyter-widgets/controls",
            "_model_module_version": "1.5.0",
            "value": 74791,
            "_view_count": null,
            "_view_module_version": "1.5.0",
            "orientation": "horizontal",
            "min": 0,
            "description_tooltip": null,
            "_model_module": "@jupyter-widgets/controls",
            "layout": "IPY_MODEL_3197c81ce72c478c9a1b09a9587e5811"
          }
        },
        "eb73846f347a42eb9ad3d8175ab41ade": {
          "model_module": "@jupyter-widgets/controls",
          "model_name": "HTMLModel",
          "state": {
            "_view_name": "HTMLView",
            "style": "IPY_MODEL_5eb9527a6f7144b081b97521ab4faa11",
            "_dom_classes": [],
            "description": "",
            "_model_name": "HTMLModel",
            "placeholder": "​",
            "_view_module": "@jupyter-widgets/controls",
            "_model_module_version": "1.5.0",
            "value": " 74791/74791 [1:55:37&lt;00:00, 10.78it/s]",
            "_view_count": null,
            "_view_module_version": "1.5.0",
            "description_tooltip": null,
            "_model_module": "@jupyter-widgets/controls",
            "layout": "IPY_MODEL_89402682b984490db3960359acd877be"
          }
        },
        "ae612e2384164e98a590cb42a5d5b926": {
          "model_module": "@jupyter-widgets/controls",
          "model_name": "ProgressStyleModel",
          "state": {
            "_view_name": "StyleView",
            "_model_name": "ProgressStyleModel",
            "description_width": "initial",
            "_view_module": "@jupyter-widgets/base",
            "_model_module_version": "1.5.0",
            "_view_count": null,
            "_view_module_version": "1.2.0",
            "bar_color": null,
            "_model_module": "@jupyter-widgets/controls"
          }
        },
        "3197c81ce72c478c9a1b09a9587e5811": {
          "model_module": "@jupyter-widgets/base",
          "model_name": "LayoutModel",
          "state": {
            "_view_name": "LayoutView",
            "grid_template_rows": null,
            "right": null,
            "justify_content": null,
            "_view_module": "@jupyter-widgets/base",
            "overflow": null,
            "_model_module_version": "1.2.0",
            "_view_count": null,
            "flex_flow": null,
            "width": null,
            "min_width": null,
            "border": null,
            "align_items": null,
            "bottom": null,
            "_model_module": "@jupyter-widgets/base",
            "top": null,
            "grid_column": null,
            "overflow_y": null,
            "overflow_x": null,
            "grid_auto_flow": null,
            "grid_area": null,
            "grid_template_columns": null,
            "flex": null,
            "_model_name": "LayoutModel",
            "justify_items": null,
            "grid_row": null,
            "max_height": null,
            "align_content": null,
            "visibility": null,
            "align_self": null,
            "height": null,
            "min_height": null,
            "padding": null,
            "grid_auto_rows": null,
            "grid_gap": null,
            "max_width": null,
            "order": null,
            "_view_module_version": "1.2.0",
            "grid_template_areas": null,
            "object_position": null,
            "object_fit": null,
            "grid_auto_columns": null,
            "margin": null,
            "display": null,
            "left": null
          }
        },
        "5eb9527a6f7144b081b97521ab4faa11": {
          "model_module": "@jupyter-widgets/controls",
          "model_name": "DescriptionStyleModel",
          "state": {
            "_view_name": "StyleView",
            "_model_name": "DescriptionStyleModel",
            "description_width": "",
            "_view_module": "@jupyter-widgets/base",
            "_model_module_version": "1.5.0",
            "_view_count": null,
            "_view_module_version": "1.2.0",
            "_model_module": "@jupyter-widgets/controls"
          }
        },
        "89402682b984490db3960359acd877be": {
          "model_module": "@jupyter-widgets/base",
          "model_name": "LayoutModel",
          "state": {
            "_view_name": "LayoutView",
            "grid_template_rows": null,
            "right": null,
            "justify_content": null,
            "_view_module": "@jupyter-widgets/base",
            "overflow": null,
            "_model_module_version": "1.2.0",
            "_view_count": null,
            "flex_flow": null,
            "width": null,
            "min_width": null,
            "border": null,
            "align_items": null,
            "bottom": null,
            "_model_module": "@jupyter-widgets/base",
            "top": null,
            "grid_column": null,
            "overflow_y": null,
            "overflow_x": null,
            "grid_auto_flow": null,
            "grid_area": null,
            "grid_template_columns": null,
            "flex": null,
            "_model_name": "LayoutModel",
            "justify_items": null,
            "grid_row": null,
            "max_height": null,
            "align_content": null,
            "visibility": null,
            "align_self": null,
            "height": null,
            "min_height": null,
            "padding": null,
            "grid_auto_rows": null,
            "grid_gap": null,
            "max_width": null,
            "order": null,
            "_view_module_version": "1.2.0",
            "grid_template_areas": null,
            "object_position": null,
            "object_fit": null,
            "grid_auto_columns": null,
            "margin": null,
            "display": null,
            "left": null
          }
        },
        "b991e5a634374ce6b10e2187e98f8f54": {
          "model_module": "@jupyter-widgets/controls",
          "model_name": "HBoxModel",
          "state": {
            "_view_name": "HBoxView",
            "_dom_classes": [],
            "_model_name": "HBoxModel",
            "_view_module": "@jupyter-widgets/controls",
            "_model_module_version": "1.5.0",
            "_view_count": null,
            "_view_module_version": "1.5.0",
            "box_style": "",
            "layout": "IPY_MODEL_2e9fc66ab78948bc9ab4717490e09dc2",
            "_model_module": "@jupyter-widgets/controls",
            "children": [
              "IPY_MODEL_9667b9e460304e1c9203ef74f857c694",
              "IPY_MODEL_1291d11276be4ba5bab4f2b5afa39bd3"
            ]
          }
        },
        "2e9fc66ab78948bc9ab4717490e09dc2": {
          "model_module": "@jupyter-widgets/base",
          "model_name": "LayoutModel",
          "state": {
            "_view_name": "LayoutView",
            "grid_template_rows": null,
            "right": null,
            "justify_content": null,
            "_view_module": "@jupyter-widgets/base",
            "overflow": null,
            "_model_module_version": "1.2.0",
            "_view_count": null,
            "flex_flow": null,
            "width": null,
            "min_width": null,
            "border": null,
            "align_items": null,
            "bottom": null,
            "_model_module": "@jupyter-widgets/base",
            "top": null,
            "grid_column": null,
            "overflow_y": null,
            "overflow_x": null,
            "grid_auto_flow": null,
            "grid_area": null,
            "grid_template_columns": null,
            "flex": null,
            "_model_name": "LayoutModel",
            "justify_items": null,
            "grid_row": null,
            "max_height": null,
            "align_content": null,
            "visibility": null,
            "align_self": null,
            "height": null,
            "min_height": null,
            "padding": null,
            "grid_auto_rows": null,
            "grid_gap": null,
            "max_width": null,
            "order": null,
            "_view_module_version": "1.2.0",
            "grid_template_areas": null,
            "object_position": null,
            "object_fit": null,
            "grid_auto_columns": null,
            "margin": null,
            "display": null,
            "left": null
          }
        },
        "9667b9e460304e1c9203ef74f857c694": {
          "model_module": "@jupyter-widgets/controls",
          "model_name": "FloatProgressModel",
          "state": {
            "_view_name": "ProgressView",
            "style": "IPY_MODEL_01dba64485834cd9b88b7c44e957d2bc",
            "_dom_classes": [],
            "description": "100%",
            "_model_name": "FloatProgressModel",
            "bar_style": "success",
            "max": 74791,
            "_view_module": "@jupyter-widgets/controls",
            "_model_module_version": "1.5.0",
            "value": 74791,
            "_view_count": null,
            "_view_module_version": "1.5.0",
            "orientation": "horizontal",
            "min": 0,
            "description_tooltip": null,
            "_model_module": "@jupyter-widgets/controls",
            "layout": "IPY_MODEL_28e19bc110ec4a1aafbc26a5af8fff1c"
          }
        },
        "1291d11276be4ba5bab4f2b5afa39bd3": {
          "model_module": "@jupyter-widgets/controls",
          "model_name": "HTMLModel",
          "state": {
            "_view_name": "HTMLView",
            "style": "IPY_MODEL_688558b6f5f2411b80a7fe151800f8e2",
            "_dom_classes": [],
            "description": "",
            "_model_name": "HTMLModel",
            "placeholder": "​",
            "_view_module": "@jupyter-widgets/controls",
            "_model_module_version": "1.5.0",
            "value": " 74791/74791 [1:32:29&lt;00:00, 13.48it/s]",
            "_view_count": null,
            "_view_module_version": "1.5.0",
            "description_tooltip": null,
            "_model_module": "@jupyter-widgets/controls",
            "layout": "IPY_MODEL_95ba89e82b7e4fb4ba91097f8d28da79"
          }
        },
        "01dba64485834cd9b88b7c44e957d2bc": {
          "model_module": "@jupyter-widgets/controls",
          "model_name": "ProgressStyleModel",
          "state": {
            "_view_name": "StyleView",
            "_model_name": "ProgressStyleModel",
            "description_width": "initial",
            "_view_module": "@jupyter-widgets/base",
            "_model_module_version": "1.5.0",
            "_view_count": null,
            "_view_module_version": "1.2.0",
            "bar_color": null,
            "_model_module": "@jupyter-widgets/controls"
          }
        },
        "28e19bc110ec4a1aafbc26a5af8fff1c": {
          "model_module": "@jupyter-widgets/base",
          "model_name": "LayoutModel",
          "state": {
            "_view_name": "LayoutView",
            "grid_template_rows": null,
            "right": null,
            "justify_content": null,
            "_view_module": "@jupyter-widgets/base",
            "overflow": null,
            "_model_module_version": "1.2.0",
            "_view_count": null,
            "flex_flow": null,
            "width": null,
            "min_width": null,
            "border": null,
            "align_items": null,
            "bottom": null,
            "_model_module": "@jupyter-widgets/base",
            "top": null,
            "grid_column": null,
            "overflow_y": null,
            "overflow_x": null,
            "grid_auto_flow": null,
            "grid_area": null,
            "grid_template_columns": null,
            "flex": null,
            "_model_name": "LayoutModel",
            "justify_items": null,
            "grid_row": null,
            "max_height": null,
            "align_content": null,
            "visibility": null,
            "align_self": null,
            "height": null,
            "min_height": null,
            "padding": null,
            "grid_auto_rows": null,
            "grid_gap": null,
            "max_width": null,
            "order": null,
            "_view_module_version": "1.2.0",
            "grid_template_areas": null,
            "object_position": null,
            "object_fit": null,
            "grid_auto_columns": null,
            "margin": null,
            "display": null,
            "left": null
          }
        },
        "688558b6f5f2411b80a7fe151800f8e2": {
          "model_module": "@jupyter-widgets/controls",
          "model_name": "DescriptionStyleModel",
          "state": {
            "_view_name": "StyleView",
            "_model_name": "DescriptionStyleModel",
            "description_width": "",
            "_view_module": "@jupyter-widgets/base",
            "_model_module_version": "1.5.0",
            "_view_count": null,
            "_view_module_version": "1.2.0",
            "_model_module": "@jupyter-widgets/controls"
          }
        },
        "95ba89e82b7e4fb4ba91097f8d28da79": {
          "model_module": "@jupyter-widgets/base",
          "model_name": "LayoutModel",
          "state": {
            "_view_name": "LayoutView",
            "grid_template_rows": null,
            "right": null,
            "justify_content": null,
            "_view_module": "@jupyter-widgets/base",
            "overflow": null,
            "_model_module_version": "1.2.0",
            "_view_count": null,
            "flex_flow": null,
            "width": null,
            "min_width": null,
            "border": null,
            "align_items": null,
            "bottom": null,
            "_model_module": "@jupyter-widgets/base",
            "top": null,
            "grid_column": null,
            "overflow_y": null,
            "overflow_x": null,
            "grid_auto_flow": null,
            "grid_area": null,
            "grid_template_columns": null,
            "flex": null,
            "_model_name": "LayoutModel",
            "justify_items": null,
            "grid_row": null,
            "max_height": null,
            "align_content": null,
            "visibility": null,
            "align_self": null,
            "height": null,
            "min_height": null,
            "padding": null,
            "grid_auto_rows": null,
            "grid_gap": null,
            "max_width": null,
            "order": null,
            "_view_module_version": "1.2.0",
            "grid_template_areas": null,
            "object_position": null,
            "object_fit": null,
            "grid_auto_columns": null,
            "margin": null,
            "display": null,
            "left": null
          }
        },
        "97f92084e8304ccca721ced2156f07f9": {
          "model_module": "@jupyter-widgets/controls",
          "model_name": "HBoxModel",
          "state": {
            "_view_name": "HBoxView",
            "_dom_classes": [],
            "_model_name": "HBoxModel",
            "_view_module": "@jupyter-widgets/controls",
            "_model_module_version": "1.5.0",
            "_view_count": null,
            "_view_module_version": "1.5.0",
            "box_style": "",
            "layout": "IPY_MODEL_9b91f6a9f1b949a088af793970ae9e7d",
            "_model_module": "@jupyter-widgets/controls",
            "children": [
              "IPY_MODEL_320d646e03ec446b8a96b11f49e9a9a4",
              "IPY_MODEL_0115873581ec4fc888fd351db08a3cec"
            ]
          }
        },
        "9b91f6a9f1b949a088af793970ae9e7d": {
          "model_module": "@jupyter-widgets/base",
          "model_name": "LayoutModel",
          "state": {
            "_view_name": "LayoutView",
            "grid_template_rows": null,
            "right": null,
            "justify_content": null,
            "_view_module": "@jupyter-widgets/base",
            "overflow": null,
            "_model_module_version": "1.2.0",
            "_view_count": null,
            "flex_flow": null,
            "width": null,
            "min_width": null,
            "border": null,
            "align_items": null,
            "bottom": null,
            "_model_module": "@jupyter-widgets/base",
            "top": null,
            "grid_column": null,
            "overflow_y": null,
            "overflow_x": null,
            "grid_auto_flow": null,
            "grid_area": null,
            "grid_template_columns": null,
            "flex": null,
            "_model_name": "LayoutModel",
            "justify_items": null,
            "grid_row": null,
            "max_height": null,
            "align_content": null,
            "visibility": null,
            "align_self": null,
            "height": null,
            "min_height": null,
            "padding": null,
            "grid_auto_rows": null,
            "grid_gap": null,
            "max_width": null,
            "order": null,
            "_view_module_version": "1.2.0",
            "grid_template_areas": null,
            "object_position": null,
            "object_fit": null,
            "grid_auto_columns": null,
            "margin": null,
            "display": null,
            "left": null
          }
        },
        "320d646e03ec446b8a96b11f49e9a9a4": {
          "model_module": "@jupyter-widgets/controls",
          "model_name": "FloatProgressModel",
          "state": {
            "_view_name": "ProgressView",
            "style": "IPY_MODEL_7e7231900edb4bbfbab6cc5b3e7b695a",
            "_dom_classes": [],
            "description": "100%",
            "_model_name": "FloatProgressModel",
            "bar_style": "success",
            "max": 74791,
            "_view_module": "@jupyter-widgets/controls",
            "_model_module_version": "1.5.0",
            "value": 74791,
            "_view_count": null,
            "_view_module_version": "1.5.0",
            "orientation": "horizontal",
            "min": 0,
            "description_tooltip": null,
            "_model_module": "@jupyter-widgets/controls",
            "layout": "IPY_MODEL_b0e59e5a14514ac2a18a387c8e239b1e"
          }
        },
        "0115873581ec4fc888fd351db08a3cec": {
          "model_module": "@jupyter-widgets/controls",
          "model_name": "HTMLModel",
          "state": {
            "_view_name": "HTMLView",
            "style": "IPY_MODEL_2f9b432e4d534687a5d1e36d22665618",
            "_dom_classes": [],
            "description": "",
            "_model_name": "HTMLModel",
            "placeholder": "​",
            "_view_module": "@jupyter-widgets/controls",
            "_model_module_version": "1.5.0",
            "value": " 74791/74791 [1:09:23&lt;00:00, 17.96it/s]",
            "_view_count": null,
            "_view_module_version": "1.5.0",
            "description_tooltip": null,
            "_model_module": "@jupyter-widgets/controls",
            "layout": "IPY_MODEL_21f5f43f5e4e4ffc9f1561bcab64e71a"
          }
        },
        "7e7231900edb4bbfbab6cc5b3e7b695a": {
          "model_module": "@jupyter-widgets/controls",
          "model_name": "ProgressStyleModel",
          "state": {
            "_view_name": "StyleView",
            "_model_name": "ProgressStyleModel",
            "description_width": "initial",
            "_view_module": "@jupyter-widgets/base",
            "_model_module_version": "1.5.0",
            "_view_count": null,
            "_view_module_version": "1.2.0",
            "bar_color": null,
            "_model_module": "@jupyter-widgets/controls"
          }
        },
        "b0e59e5a14514ac2a18a387c8e239b1e": {
          "model_module": "@jupyter-widgets/base",
          "model_name": "LayoutModel",
          "state": {
            "_view_name": "LayoutView",
            "grid_template_rows": null,
            "right": null,
            "justify_content": null,
            "_view_module": "@jupyter-widgets/base",
            "overflow": null,
            "_model_module_version": "1.2.0",
            "_view_count": null,
            "flex_flow": null,
            "width": null,
            "min_width": null,
            "border": null,
            "align_items": null,
            "bottom": null,
            "_model_module": "@jupyter-widgets/base",
            "top": null,
            "grid_column": null,
            "overflow_y": null,
            "overflow_x": null,
            "grid_auto_flow": null,
            "grid_area": null,
            "grid_template_columns": null,
            "flex": null,
            "_model_name": "LayoutModel",
            "justify_items": null,
            "grid_row": null,
            "max_height": null,
            "align_content": null,
            "visibility": null,
            "align_self": null,
            "height": null,
            "min_height": null,
            "padding": null,
            "grid_auto_rows": null,
            "grid_gap": null,
            "max_width": null,
            "order": null,
            "_view_module_version": "1.2.0",
            "grid_template_areas": null,
            "object_position": null,
            "object_fit": null,
            "grid_auto_columns": null,
            "margin": null,
            "display": null,
            "left": null
          }
        },
        "2f9b432e4d534687a5d1e36d22665618": {
          "model_module": "@jupyter-widgets/controls",
          "model_name": "DescriptionStyleModel",
          "state": {
            "_view_name": "StyleView",
            "_model_name": "DescriptionStyleModel",
            "description_width": "",
            "_view_module": "@jupyter-widgets/base",
            "_model_module_version": "1.5.0",
            "_view_count": null,
            "_view_module_version": "1.2.0",
            "_model_module": "@jupyter-widgets/controls"
          }
        },
        "21f5f43f5e4e4ffc9f1561bcab64e71a": {
          "model_module": "@jupyter-widgets/base",
          "model_name": "LayoutModel",
          "state": {
            "_view_name": "LayoutView",
            "grid_template_rows": null,
            "right": null,
            "justify_content": null,
            "_view_module": "@jupyter-widgets/base",
            "overflow": null,
            "_model_module_version": "1.2.0",
            "_view_count": null,
            "flex_flow": null,
            "width": null,
            "min_width": null,
            "border": null,
            "align_items": null,
            "bottom": null,
            "_model_module": "@jupyter-widgets/base",
            "top": null,
            "grid_column": null,
            "overflow_y": null,
            "overflow_x": null,
            "grid_auto_flow": null,
            "grid_area": null,
            "grid_template_columns": null,
            "flex": null,
            "_model_name": "LayoutModel",
            "justify_items": null,
            "grid_row": null,
            "max_height": null,
            "align_content": null,
            "visibility": null,
            "align_self": null,
            "height": null,
            "min_height": null,
            "padding": null,
            "grid_auto_rows": null,
            "grid_gap": null,
            "max_width": null,
            "order": null,
            "_view_module_version": "1.2.0",
            "grid_template_areas": null,
            "object_position": null,
            "object_fit": null,
            "grid_auto_columns": null,
            "margin": null,
            "display": null,
            "left": null
          }
        },
        "9b60f6e1d80c49639940701f8d22b819": {
          "model_module": "@jupyter-widgets/controls",
          "model_name": "HBoxModel",
          "state": {
            "_view_name": "HBoxView",
            "_dom_classes": [],
            "_model_name": "HBoxModel",
            "_view_module": "@jupyter-widgets/controls",
            "_model_module_version": "1.5.0",
            "_view_count": null,
            "_view_module_version": "1.5.0",
            "box_style": "",
            "layout": "IPY_MODEL_6ae93ee91fe346299b743fd05bf9f40e",
            "_model_module": "@jupyter-widgets/controls",
            "children": [
              "IPY_MODEL_1fe91cd4a5d84060b49e177ef95bbbee",
              "IPY_MODEL_d426b0ea9db841459c4ceb546964e97f"
            ]
          }
        },
        "6ae93ee91fe346299b743fd05bf9f40e": {
          "model_module": "@jupyter-widgets/base",
          "model_name": "LayoutModel",
          "state": {
            "_view_name": "LayoutView",
            "grid_template_rows": null,
            "right": null,
            "justify_content": null,
            "_view_module": "@jupyter-widgets/base",
            "overflow": null,
            "_model_module_version": "1.2.0",
            "_view_count": null,
            "flex_flow": null,
            "width": null,
            "min_width": null,
            "border": null,
            "align_items": null,
            "bottom": null,
            "_model_module": "@jupyter-widgets/base",
            "top": null,
            "grid_column": null,
            "overflow_y": null,
            "overflow_x": null,
            "grid_auto_flow": null,
            "grid_area": null,
            "grid_template_columns": null,
            "flex": null,
            "_model_name": "LayoutModel",
            "justify_items": null,
            "grid_row": null,
            "max_height": null,
            "align_content": null,
            "visibility": null,
            "align_self": null,
            "height": null,
            "min_height": null,
            "padding": null,
            "grid_auto_rows": null,
            "grid_gap": null,
            "max_width": null,
            "order": null,
            "_view_module_version": "1.2.0",
            "grid_template_areas": null,
            "object_position": null,
            "object_fit": null,
            "grid_auto_columns": null,
            "margin": null,
            "display": null,
            "left": null
          }
        },
        "1fe91cd4a5d84060b49e177ef95bbbee": {
          "model_module": "@jupyter-widgets/controls",
          "model_name": "FloatProgressModel",
          "state": {
            "_view_name": "ProgressView",
            "style": "IPY_MODEL_24fa371cddf44d839d6e4f59480c9886",
            "_dom_classes": [],
            "description": "100%",
            "_model_name": "FloatProgressModel",
            "bar_style": "success",
            "max": 74791,
            "_view_module": "@jupyter-widgets/controls",
            "_model_module_version": "1.5.0",
            "value": 74791,
            "_view_count": null,
            "_view_module_version": "1.5.0",
            "orientation": "horizontal",
            "min": 0,
            "description_tooltip": null,
            "_model_module": "@jupyter-widgets/controls",
            "layout": "IPY_MODEL_3cd580e22bec4e3394e1ba56b7361a20"
          }
        },
        "d426b0ea9db841459c4ceb546964e97f": {
          "model_module": "@jupyter-widgets/controls",
          "model_name": "HTMLModel",
          "state": {
            "_view_name": "HTMLView",
            "style": "IPY_MODEL_cc413f6577124650aa701991874830ba",
            "_dom_classes": [],
            "description": "",
            "_model_name": "HTMLModel",
            "placeholder": "​",
            "_view_module": "@jupyter-widgets/controls",
            "_model_module_version": "1.5.0",
            "value": " 74791/74791 [46:17&lt;00:00, 26.93it/s]",
            "_view_count": null,
            "_view_module_version": "1.5.0",
            "description_tooltip": null,
            "_model_module": "@jupyter-widgets/controls",
            "layout": "IPY_MODEL_1a3eaf5b6ed04f0b8442ab82082b7aab"
          }
        },
        "24fa371cddf44d839d6e4f59480c9886": {
          "model_module": "@jupyter-widgets/controls",
          "model_name": "ProgressStyleModel",
          "state": {
            "_view_name": "StyleView",
            "_model_name": "ProgressStyleModel",
            "description_width": "initial",
            "_view_module": "@jupyter-widgets/base",
            "_model_module_version": "1.5.0",
            "_view_count": null,
            "_view_module_version": "1.2.0",
            "bar_color": null,
            "_model_module": "@jupyter-widgets/controls"
          }
        },
        "3cd580e22bec4e3394e1ba56b7361a20": {
          "model_module": "@jupyter-widgets/base",
          "model_name": "LayoutModel",
          "state": {
            "_view_name": "LayoutView",
            "grid_template_rows": null,
            "right": null,
            "justify_content": null,
            "_view_module": "@jupyter-widgets/base",
            "overflow": null,
            "_model_module_version": "1.2.0",
            "_view_count": null,
            "flex_flow": null,
            "width": null,
            "min_width": null,
            "border": null,
            "align_items": null,
            "bottom": null,
            "_model_module": "@jupyter-widgets/base",
            "top": null,
            "grid_column": null,
            "overflow_y": null,
            "overflow_x": null,
            "grid_auto_flow": null,
            "grid_area": null,
            "grid_template_columns": null,
            "flex": null,
            "_model_name": "LayoutModel",
            "justify_items": null,
            "grid_row": null,
            "max_height": null,
            "align_content": null,
            "visibility": null,
            "align_self": null,
            "height": null,
            "min_height": null,
            "padding": null,
            "grid_auto_rows": null,
            "grid_gap": null,
            "max_width": null,
            "order": null,
            "_view_module_version": "1.2.0",
            "grid_template_areas": null,
            "object_position": null,
            "object_fit": null,
            "grid_auto_columns": null,
            "margin": null,
            "display": null,
            "left": null
          }
        },
        "cc413f6577124650aa701991874830ba": {
          "model_module": "@jupyter-widgets/controls",
          "model_name": "DescriptionStyleModel",
          "state": {
            "_view_name": "StyleView",
            "_model_name": "DescriptionStyleModel",
            "description_width": "",
            "_view_module": "@jupyter-widgets/base",
            "_model_module_version": "1.5.0",
            "_view_count": null,
            "_view_module_version": "1.2.0",
            "_model_module": "@jupyter-widgets/controls"
          }
        },
        "1a3eaf5b6ed04f0b8442ab82082b7aab": {
          "model_module": "@jupyter-widgets/base",
          "model_name": "LayoutModel",
          "state": {
            "_view_name": "LayoutView",
            "grid_template_rows": null,
            "right": null,
            "justify_content": null,
            "_view_module": "@jupyter-widgets/base",
            "overflow": null,
            "_model_module_version": "1.2.0",
            "_view_count": null,
            "flex_flow": null,
            "width": null,
            "min_width": null,
            "border": null,
            "align_items": null,
            "bottom": null,
            "_model_module": "@jupyter-widgets/base",
            "top": null,
            "grid_column": null,
            "overflow_y": null,
            "overflow_x": null,
            "grid_auto_flow": null,
            "grid_area": null,
            "grid_template_columns": null,
            "flex": null,
            "_model_name": "LayoutModel",
            "justify_items": null,
            "grid_row": null,
            "max_height": null,
            "align_content": null,
            "visibility": null,
            "align_self": null,
            "height": null,
            "min_height": null,
            "padding": null,
            "grid_auto_rows": null,
            "grid_gap": null,
            "max_width": null,
            "order": null,
            "_view_module_version": "1.2.0",
            "grid_template_areas": null,
            "object_position": null,
            "object_fit": null,
            "grid_auto_columns": null,
            "margin": null,
            "display": null,
            "left": null
          }
        },
        "872f6ecb0dd14536bb5cd8d3b3404d44": {
          "model_module": "@jupyter-widgets/controls",
          "model_name": "HBoxModel",
          "state": {
            "_view_name": "HBoxView",
            "_dom_classes": [],
            "_model_name": "HBoxModel",
            "_view_module": "@jupyter-widgets/controls",
            "_model_module_version": "1.5.0",
            "_view_count": null,
            "_view_module_version": "1.5.0",
            "box_style": "",
            "layout": "IPY_MODEL_45ab6160687a4ea7aeed3791414136bd",
            "_model_module": "@jupyter-widgets/controls",
            "children": [
              "IPY_MODEL_ff37964610714b07abff0713be826a56",
              "IPY_MODEL_304f97ae04e24040922ab19032b94a8b"
            ]
          }
        },
        "45ab6160687a4ea7aeed3791414136bd": {
          "model_module": "@jupyter-widgets/base",
          "model_name": "LayoutModel",
          "state": {
            "_view_name": "LayoutView",
            "grid_template_rows": null,
            "right": null,
            "justify_content": null,
            "_view_module": "@jupyter-widgets/base",
            "overflow": null,
            "_model_module_version": "1.2.0",
            "_view_count": null,
            "flex_flow": null,
            "width": null,
            "min_width": null,
            "border": null,
            "align_items": null,
            "bottom": null,
            "_model_module": "@jupyter-widgets/base",
            "top": null,
            "grid_column": null,
            "overflow_y": null,
            "overflow_x": null,
            "grid_auto_flow": null,
            "grid_area": null,
            "grid_template_columns": null,
            "flex": null,
            "_model_name": "LayoutModel",
            "justify_items": null,
            "grid_row": null,
            "max_height": null,
            "align_content": null,
            "visibility": null,
            "align_self": null,
            "height": null,
            "min_height": null,
            "padding": null,
            "grid_auto_rows": null,
            "grid_gap": null,
            "max_width": null,
            "order": null,
            "_view_module_version": "1.2.0",
            "grid_template_areas": null,
            "object_position": null,
            "object_fit": null,
            "grid_auto_columns": null,
            "margin": null,
            "display": null,
            "left": null
          }
        },
        "ff37964610714b07abff0713be826a56": {
          "model_module": "@jupyter-widgets/controls",
          "model_name": "FloatProgressModel",
          "state": {
            "_view_name": "ProgressView",
            "style": "IPY_MODEL_11bba186e31746eeaba144f58404a14b",
            "_dom_classes": [],
            "description": "100%",
            "_model_name": "FloatProgressModel",
            "bar_style": "success",
            "max": 74791,
            "_view_module": "@jupyter-widgets/controls",
            "_model_module_version": "1.5.0",
            "value": 74791,
            "_view_count": null,
            "_view_module_version": "1.5.0",
            "orientation": "horizontal",
            "min": 0,
            "description_tooltip": null,
            "_model_module": "@jupyter-widgets/controls",
            "layout": "IPY_MODEL_f62411549ed14d4f9b8efbfd6ec2ea3c"
          }
        },
        "304f97ae04e24040922ab19032b94a8b": {
          "model_module": "@jupyter-widgets/controls",
          "model_name": "HTMLModel",
          "state": {
            "_view_name": "HTMLView",
            "style": "IPY_MODEL_e7514fbcdd4340638ca80d145119cc9d",
            "_dom_classes": [],
            "description": "",
            "_model_name": "HTMLModel",
            "placeholder": "​",
            "_view_module": "@jupyter-widgets/controls",
            "_model_module_version": "1.5.0",
            "value": " 74791/74791 [23:09&lt;00:00, 53.81it/s]",
            "_view_count": null,
            "_view_module_version": "1.5.0",
            "description_tooltip": null,
            "_model_module": "@jupyter-widgets/controls",
            "layout": "IPY_MODEL_17327198daed49bda2de21b980214f38"
          }
        },
        "11bba186e31746eeaba144f58404a14b": {
          "model_module": "@jupyter-widgets/controls",
          "model_name": "ProgressStyleModel",
          "state": {
            "_view_name": "StyleView",
            "_model_name": "ProgressStyleModel",
            "description_width": "initial",
            "_view_module": "@jupyter-widgets/base",
            "_model_module_version": "1.5.0",
            "_view_count": null,
            "_view_module_version": "1.2.0",
            "bar_color": null,
            "_model_module": "@jupyter-widgets/controls"
          }
        },
        "f62411549ed14d4f9b8efbfd6ec2ea3c": {
          "model_module": "@jupyter-widgets/base",
          "model_name": "LayoutModel",
          "state": {
            "_view_name": "LayoutView",
            "grid_template_rows": null,
            "right": null,
            "justify_content": null,
            "_view_module": "@jupyter-widgets/base",
            "overflow": null,
            "_model_module_version": "1.2.0",
            "_view_count": null,
            "flex_flow": null,
            "width": null,
            "min_width": null,
            "border": null,
            "align_items": null,
            "bottom": null,
            "_model_module": "@jupyter-widgets/base",
            "top": null,
            "grid_column": null,
            "overflow_y": null,
            "overflow_x": null,
            "grid_auto_flow": null,
            "grid_area": null,
            "grid_template_columns": null,
            "flex": null,
            "_model_name": "LayoutModel",
            "justify_items": null,
            "grid_row": null,
            "max_height": null,
            "align_content": null,
            "visibility": null,
            "align_self": null,
            "height": null,
            "min_height": null,
            "padding": null,
            "grid_auto_rows": null,
            "grid_gap": null,
            "max_width": null,
            "order": null,
            "_view_module_version": "1.2.0",
            "grid_template_areas": null,
            "object_position": null,
            "object_fit": null,
            "grid_auto_columns": null,
            "margin": null,
            "display": null,
            "left": null
          }
        },
        "e7514fbcdd4340638ca80d145119cc9d": {
          "model_module": "@jupyter-widgets/controls",
          "model_name": "DescriptionStyleModel",
          "state": {
            "_view_name": "StyleView",
            "_model_name": "DescriptionStyleModel",
            "description_width": "",
            "_view_module": "@jupyter-widgets/base",
            "_model_module_version": "1.5.0",
            "_view_count": null,
            "_view_module_version": "1.2.0",
            "_model_module": "@jupyter-widgets/controls"
          }
        },
        "17327198daed49bda2de21b980214f38": {
          "model_module": "@jupyter-widgets/base",
          "model_name": "LayoutModel",
          "state": {
            "_view_name": "LayoutView",
            "grid_template_rows": null,
            "right": null,
            "justify_content": null,
            "_view_module": "@jupyter-widgets/base",
            "overflow": null,
            "_model_module_version": "1.2.0",
            "_view_count": null,
            "flex_flow": null,
            "width": null,
            "min_width": null,
            "border": null,
            "align_items": null,
            "bottom": null,
            "_model_module": "@jupyter-widgets/base",
            "top": null,
            "grid_column": null,
            "overflow_y": null,
            "overflow_x": null,
            "grid_auto_flow": null,
            "grid_area": null,
            "grid_template_columns": null,
            "flex": null,
            "_model_name": "LayoutModel",
            "justify_items": null,
            "grid_row": null,
            "max_height": null,
            "align_content": null,
            "visibility": null,
            "align_self": null,
            "height": null,
            "min_height": null,
            "padding": null,
            "grid_auto_rows": null,
            "grid_gap": null,
            "max_width": null,
            "order": null,
            "_view_module_version": "1.2.0",
            "grid_template_areas": null,
            "object_position": null,
            "object_fit": null,
            "grid_auto_columns": null,
            "margin": null,
            "display": null,
            "left": null
          }
        }
      }
    }
  },
  "cells": [
    {
      "cell_type": "markdown",
      "metadata": {
        "id": "1bc8ca73-48ed-4e59-8b4d-f53dda91fe5f"
      },
      "source": [
        "## 参考\n",
        "- https://github.com/theeluwin/pytorch-sgns"
      ],
      "id": "1bc8ca73-48ed-4e59-8b4d-f53dda91fe5f"
    },
    {
      "cell_type": "code",
      "metadata": {
        "colab": {
          "base_uri": "https://localhost:8080/"
        },
        "id": "XL7zbEaezZ7-",
        "outputId": "5e8bd622-93a6-49da-8220-93fc38544dcf"
      },
      "source": [
        "!nvidia-smi"
      ],
      "id": "XL7zbEaezZ7-",
      "execution_count": 1,
      "outputs": [
        {
          "output_type": "stream",
          "text": [
            "Sun Jul  4 22:46:42 2021       \n",
            "+-----------------------------------------------------------------------------+\n",
            "| NVIDIA-SMI 465.27       Driver Version: 460.32.03    CUDA Version: 11.2     |\n",
            "|-------------------------------+----------------------+----------------------+\n",
            "| GPU  Name        Persistence-M| Bus-Id        Disp.A | Volatile Uncorr. ECC |\n",
            "| Fan  Temp  Perf  Pwr:Usage/Cap|         Memory-Usage | GPU-Util  Compute M. |\n",
            "|                               |                      |               MIG M. |\n",
            "|===============================+======================+======================|\n",
            "|   0  Tesla T4            Off  | 00000000:00:04.0 Off |                    0 |\n",
            "| N/A   52C    P8    10W /  70W |      0MiB / 15109MiB |      0%      Default |\n",
            "|                               |                      |                  N/A |\n",
            "+-------------------------------+----------------------+----------------------+\n",
            "                                                                               \n",
            "+-----------------------------------------------------------------------------+\n",
            "| Processes:                                                                  |\n",
            "|  GPU   GI   CI        PID   Type   Process name                  GPU Memory |\n",
            "|        ID   ID                                                   Usage      |\n",
            "|=============================================================================|\n",
            "|  No running processes found                                                 |\n",
            "+-----------------------------------------------------------------------------+\n"
          ],
          "name": "stdout"
        }
      ]
    },
    {
      "cell_type": "code",
      "metadata": {
        "colab": {
          "base_uri": "https://localhost:8080/"
        },
        "id": "1vJSSx96zUDU",
        "outputId": "2bf17c62-bea0-437d-87a9-4bb49319aeb3"
      },
      "source": [
        "from google.colab import drive\n",
        "drive.mount('/content/drive')\n",
        "print('Mount OK')"
      ],
      "id": "1vJSSx96zUDU",
      "execution_count": 2,
      "outputs": [
        {
          "output_type": "stream",
          "text": [
            "Mounted at /content/drive\n",
            "Mount OK\n"
          ],
          "name": "stdout"
        }
      ]
    },
    {
      "cell_type": "code",
      "metadata": {
        "colab": {
          "base_uri": "https://localhost:8080/"
        },
        "id": "AalxBwfc0WqZ",
        "outputId": "b858d302-b4b0-4f50-abe2-ff99d2ae0cd6"
      },
      "source": [
        "# https://qiita.com/jun40vn/items/78e33e29dce3d50c2df1\n",
        "\n",
        "# 形態素分析ライブラリーMeCab と 辞書(mecab-ipadic-NEologd)のインストール \n",
        "!apt-get -q -y install sudo file mecab libmecab-dev mecab-ipadic-utf8 git curl python-mecab > /dev/null\n",
        "!git clone --depth 1 https://github.com/neologd/mecab-ipadic-neologd.git > /dev/null \n",
        "!echo yes | mecab-ipadic-neologd/bin/install-mecab-ipadic-neologd -n > /dev/null 2>&1\n",
        "!pip install mecab-python3 > /dev/null\n",
        "\n",
        "# シンボリックリンクによるエラー回避\n",
        "!ln -s /etc/mecabrc /usr/local/etc/mecabrc"
      ],
      "id": "AalxBwfc0WqZ",
      "execution_count": 3,
      "outputs": [
        {
          "output_type": "stream",
          "text": [
            "Cloning into 'mecab-ipadic-neologd'...\n",
            "remote: Enumerating objects: 75, done.\u001b[K\n",
            "remote: Counting objects: 100% (75/75), done.\u001b[K\n",
            "remote: Compressing objects: 100% (74/74), done.\u001b[K\n",
            "remote: Total 75 (delta 5), reused 54 (delta 0), pack-reused 0\u001b[K\n",
            "Unpacking objects: 100% (75/75), done.\n"
          ],
          "name": "stdout"
        }
      ]
    },
    {
      "cell_type": "code",
      "metadata": {
        "tags": [],
        "id": "28d42253-26d4-4ec3-8254-ec41ca88773a"
      },
      "source": [
        "import os\n",
        "from glob import glob\n",
        "import pandas as pd\n",
        "import numpy as np\n",
        "import matplotlib.pyplot as plt\n",
        "import seaborn as sns\n",
        "import MeCab\n",
        "\n",
        "from tqdm import tqdm_notebook as tqdm\n",
        "import numpy as np\n",
        "import torch\n",
        "import torch.nn as nn\n",
        "from torch.optim import Adam\n",
        "from torch.utils.data import Dataset, DataLoader"
      ],
      "id": "28d42253-26d4-4ec3-8254-ec41ca88773a",
      "execution_count": 4,
      "outputs": []
    },
    {
      "cell_type": "code",
      "metadata": {
        "id": "654731f7-6039-4aea-9dfc-2b1d6ef16886"
      },
      "source": [
        "DATA_DIR = \"/content/drive/MyDrive/Colab Notebooks/word2vec_pytorch/input/\"\n",
        "SAVE_DIR = \"/content/drive/MyDrive/Colab Notebooks/word2vec_pytorch/output/\"\n",
        "os.makedirs(SAVE_DIR, exist_ok=True)"
      ],
      "id": "654731f7-6039-4aea-9dfc-2b1d6ef16886",
      "execution_count": 5,
      "outputs": []
    },
    {
      "cell_type": "code",
      "metadata": {
        "tags": [],
        "colab": {
          "base_uri": "https://localhost:8080/",
          "height": 751
        },
        "id": "50dc2a1a-2aa8-4d09-aad4-b898c155ffda",
        "outputId": "882cbc12-5b17-4064-8ac7-830b39dac930"
      },
      "source": [
        "# wikipediaの日本語版から作られたコーパス\n",
        "# https://s3-ap-northeast-1.amazonaws.com/dev.tech-sketch.jp/chakki/public/ja.text8.zip\n",
        "df = pd.read_csv(os.path.join(DATA_DIR, 'amazon_reviews_multilingual_JP_v1_00.tsv'), sep='\\t')\n",
        "print(df.shape)\n",
        "df.head()"
      ],
      "id": "50dc2a1a-2aa8-4d09-aad4-b898c155ffda",
      "execution_count": 6,
      "outputs": [
        {
          "output_type": "stream",
          "text": [
            "(262256, 15)\n"
          ],
          "name": "stdout"
        },
        {
          "output_type": "execute_result",
          "data": {
            "text/html": [
              "<div>\n",
              "<style scoped>\n",
              "    .dataframe tbody tr th:only-of-type {\n",
              "        vertical-align: middle;\n",
              "    }\n",
              "\n",
              "    .dataframe tbody tr th {\n",
              "        vertical-align: top;\n",
              "    }\n",
              "\n",
              "    .dataframe thead th {\n",
              "        text-align: right;\n",
              "    }\n",
              "</style>\n",
              "<table border=\"1\" class=\"dataframe\">\n",
              "  <thead>\n",
              "    <tr style=\"text-align: right;\">\n",
              "      <th></th>\n",
              "      <th>marketplace</th>\n",
              "      <th>customer_id</th>\n",
              "      <th>review_id</th>\n",
              "      <th>product_id</th>\n",
              "      <th>product_parent</th>\n",
              "      <th>product_title</th>\n",
              "      <th>product_category</th>\n",
              "      <th>star_rating</th>\n",
              "      <th>helpful_votes</th>\n",
              "      <th>total_votes</th>\n",
              "      <th>vine</th>\n",
              "      <th>verified_purchase</th>\n",
              "      <th>review_headline</th>\n",
              "      <th>review_body</th>\n",
              "      <th>review_date</th>\n",
              "    </tr>\n",
              "  </thead>\n",
              "  <tbody>\n",
              "    <tr>\n",
              "      <th>0</th>\n",
              "      <td>JP</td>\n",
              "      <td>65317</td>\n",
              "      <td>R33RSUD4ZTRKT7</td>\n",
              "      <td>B000001GBJ</td>\n",
              "      <td>957145596</td>\n",
              "      <td>SONGS FROM A SECRET GARDE</td>\n",
              "      <td>Music</td>\n",
              "      <td>1</td>\n",
              "      <td>1</td>\n",
              "      <td>15</td>\n",
              "      <td>N</td>\n",
              "      <td>Y</td>\n",
              "      <td>残念ながら…</td>\n",
              "      <td>残念ながら…趣味ではありませんでした。ケルト音楽の範疇にも幅があるのですね…</td>\n",
              "      <td>2012-12-05</td>\n",
              "    </tr>\n",
              "    <tr>\n",
              "      <th>1</th>\n",
              "      <td>JP</td>\n",
              "      <td>65317</td>\n",
              "      <td>R2U1VB8GPZBBEH</td>\n",
              "      <td>B000YPWBQ2</td>\n",
              "      <td>904244932</td>\n",
              "      <td>鏡の中の鏡‾ペルト作品集(SACD)(Arvo Part:Spiegel im Spiegel)</td>\n",
              "      <td>Music</td>\n",
              "      <td>1</td>\n",
              "      <td>4</td>\n",
              "      <td>20</td>\n",
              "      <td>N</td>\n",
              "      <td>Y</td>\n",
              "      <td>残念ながら…</td>\n",
              "      <td>残念ながら…趣味ではありませんでした。正直退屈…眠気も起きない…</td>\n",
              "      <td>2012-12-05</td>\n",
              "    </tr>\n",
              "    <tr>\n",
              "      <th>2</th>\n",
              "      <td>JP</td>\n",
              "      <td>65696</td>\n",
              "      <td>R1IBRCJPPGWVJW</td>\n",
              "      <td>B0002E5O9G</td>\n",
              "      <td>108978277</td>\n",
              "      <td>Les Miserables 10th Anniversary Concert</td>\n",
              "      <td>Music</td>\n",
              "      <td>5</td>\n",
              "      <td>2</td>\n",
              "      <td>3</td>\n",
              "      <td>N</td>\n",
              "      <td>Y</td>\n",
              "      <td>ドリームキャスト</td>\n",
              "      <td>素晴らしいパフォーマンス。ミュージカル映画版の物足りない歌唱とは違います。</td>\n",
              "      <td>2013-03-02</td>\n",
              "    </tr>\n",
              "    <tr>\n",
              "      <th>3</th>\n",
              "      <td>JP</td>\n",
              "      <td>67162</td>\n",
              "      <td>RL02CW5XLYONU</td>\n",
              "      <td>B00004SRJ5</td>\n",
              "      <td>606528497</td>\n",
              "      <td>It Takes a Nation of Millions to Hold Us Back</td>\n",
              "      <td>Music</td>\n",
              "      <td>5</td>\n",
              "      <td>6</td>\n",
              "      <td>9</td>\n",
              "      <td>N</td>\n",
              "      <td>Y</td>\n",
              "      <td>やっぱりマスト</td>\n",
              "      <td>専門的な事を言わずにお勧めレコメを書きたいのですが、文才が無いので無理でした。ヒップホップが...</td>\n",
              "      <td>2013-08-11</td>\n",
              "    </tr>\n",
              "    <tr>\n",
              "      <th>4</th>\n",
              "      <td>JP</td>\n",
              "      <td>67701</td>\n",
              "      <td>R2LA2SS3HU3A3L</td>\n",
              "      <td>B0093H8H8I</td>\n",
              "      <td>509738390</td>\n",
              "      <td>Intel CPU Core I3-3225 3.3GHz 3MBキャッシュ LGA1155...</td>\n",
              "      <td>PC</td>\n",
              "      <td>4</td>\n",
              "      <td>2</td>\n",
              "      <td>4</td>\n",
              "      <td>N</td>\n",
              "      <td>Y</td>\n",
              "      <td>コスパ的には十分</td>\n",
              "      <td>今までの環境（Core2 Duo E4600)に比べれば十分に快適になりました。&lt;br /&gt;...</td>\n",
              "      <td>2013-02-10</td>\n",
              "    </tr>\n",
              "  </tbody>\n",
              "</table>\n",
              "</div>"
            ],
            "text/plain": [
              "  marketplace  ...  review_date\n",
              "0          JP  ...   2012-12-05\n",
              "1          JP  ...   2012-12-05\n",
              "2          JP  ...   2013-03-02\n",
              "3          JP  ...   2013-08-11\n",
              "4          JP  ...   2013-02-10\n",
              "\n",
              "[5 rows x 15 columns]"
            ]
          },
          "metadata": {
            "tags": []
          },
          "execution_count": 6
        }
      ]
    },
    {
      "cell_type": "code",
      "metadata": {
        "id": "1ff7ce65-58c8-4c85-aa29-b357f7d01009"
      },
      "source": [
        "# tagger = MeCab.Tagger(\"-Ochasen -d /usr/local/lib/mecab/dic/mecab-ipadic-neologd\")\n",
        "path = \"-d /usr/lib/x86_64-linux-gnu/mecab/dic/mecab-ipadic-neologd\"\n",
        "tagger = MeCab.Tagger(f\"-Ochasen {path}\")\n",
        "def tokenize(text, target=['名詞', '動詞']):\n",
        "        # 連結リスト\n",
        "        node = tagger.parseToNode(text)\n",
        "\n",
        "        result = []\n",
        "        while node:\n",
        "            hinshi = node.feature.split(\",\")[0]\n",
        "            if hinshi in target:\n",
        "                if node.feature.split(\",\")[6]!='*':\n",
        "                    result.append(node.feature.split(\",\")[6])\n",
        "                else:\n",
        "                    result.append(node.surface)  # 原形で取得しようとする場合、英字だと表示されずに「*」となることがあるため、その場合はsurfaceを取る\n",
        "            node = node.next\n",
        "\n",
        "        return result"
      ],
      "id": "1ff7ce65-58c8-4c85-aa29-b357f7d01009",
      "execution_count": 7,
      "outputs": []
    },
    {
      "cell_type": "code",
      "metadata": {
        "id": "4efdbf82-2b02-4a03-a0bd-0bb590de10e9"
      },
      "source": [
        "from bs4 import BeautifulSoup\n",
        "def clean_html(text, strip=True):\n",
        "    soup = BeautifulSoup(text, 'html.parser')\n",
        "    text = soup.get_text(strip=strip)\n",
        "    return text"
      ],
      "id": "4efdbf82-2b02-4a03-a0bd-0bb590de10e9",
      "execution_count": 8,
      "outputs": []
    },
    {
      "cell_type": "code",
      "metadata": {
        "id": "b5f2c1f9-2f10-4f26-a3ee-143e41fec5f4"
      },
      "source": [
        "import re\n",
        "def nornalize_number(text):\n",
        "    text = re.sub(r'\\d+', '0', text)\n",
        "    return text"
      ],
      "id": "b5f2c1f9-2f10-4f26-a3ee-143e41fec5f4",
      "execution_count": 9,
      "outputs": []
    },
    {
      "cell_type": "code",
      "metadata": {
        "id": "56681916-0f72-4650-bff3-3678e692ada8"
      },
      "source": [
        "def remove_symbol(text):\n",
        "    \"\"\"\n",
        "    https://ohke.hateblo.jp/entry/2019/02/09/141500\n",
        "    \"\"\"\n",
        "    # 半角記号の置換\n",
        "    text = re.sub(r'[!-/:-@[-`{-~]', r' ', text)\n",
        "\n",
        "    # 全角記号の置換 (ここでは0x25A0 - 0x266Fのブロックのみを除去)\n",
        "    text = re.sub(u'[■-♯]', ' ', text)\n",
        "    \n",
        "    return text"
      ],
      "id": "56681916-0f72-4650-bff3-3678e692ada8",
      "execution_count": 10,
      "outputs": []
    },
    {
      "cell_type": "code",
      "metadata": {
        "id": "7dd52e18-75d7-48d4-a8b6-988530f70e37"
      },
      "source": [
        "with open(os.path.join(DATA_DIR, 'stopwords_slothlib.txt'), 'r') as f:\n",
        "    stopwords = [w.strip() for w in f]\n",
        "    stopwords = set(stopwords)\n",
        "\n",
        "add_stopwords = {\n",
        "    '*',\n",
        "    'あ','い','う','え','お',\n",
        "    'か','き','く','け','こ',\n",
        "    'さ','し','す','せ','そ',\n",
        "    'た','ち','つ','て','と',\n",
        "    'な','に','ぬ','ね','の',\n",
        "    'は','ひ','ふ','へ','ほ',\n",
        "    'ま','み','む','め','も',\n",
        "    'や','ゆ','よ',\n",
        "    'わ' ,'を','ん',\n",
        "    '0', '1', \n",
        "    'ã',\n",
        "    'å',\n",
        "    'å',\n",
        "    'ä',\n",
        "    'ï', \n",
        "    'è',\n",
        "    'é',\n",
        "    'æ',\n",
        "    'ç',\n",
        "    'of',\n",
        "    'the',\n",
        "    'a','b','c','d','e','f','g','h','i','j','k','l','m','n','o','p','q','r','s','t','u','v','w','x','y','z',\n",
        "    'A','B','C','D','E','F','G','H','I','J','K','L','M','N','O','P','Q','R','S','T','U','V','W','X','Y','Z',\n",
        "}\n",
        "stopwords = stopwords | add_stopwords\n",
        "\n",
        "def remove_stopwords(words):\n",
        "    words = [w for w in words if w not in stopwords]\n",
        "    return words"
      ],
      "id": "7dd52e18-75d7-48d4-a8b6-988530f70e37",
      "execution_count": 11,
      "outputs": []
    },
    {
      "cell_type": "code",
      "metadata": {
        "id": "89878c82-2ef8-4e85-a06b-4b538b122cd1"
      },
      "source": [
        "X = df['review_body']"
      ],
      "id": "89878c82-2ef8-4e85-a06b-4b538b122cd1",
      "execution_count": 12,
      "outputs": []
    },
    {
      "cell_type": "code",
      "metadata": {
        "colab": {
          "base_uri": "https://localhost:8080/"
        },
        "id": "3072944a-7ecc-4602-9928-d0ce9f3a4d01",
        "outputId": "8884d667-6d8a-49b9-fe71-d52c11c701eb"
      },
      "source": [
        "%%time\n",
        "# 前処理+tokenization\n",
        "X = [tokenize(remove_symbol(nornalize_number(clean_html(text))), target=['名詞']) for text in X]\n",
        "\n",
        "# stopwordsの除去\n",
        "X_rm_stopwords = []\n",
        "for tokens in X:\n",
        "    X_rm_stopwords.append([w for w in tokens if w not in stopwords])\n",
        "\n",
        "X = X_rm_stopwords\n",
        "# # スペース区切りの分かち書きの状態にする\n",
        "# X = [' '.join(tokens) for tokens in X_rm_stopwords]"
      ],
      "id": "3072944a-7ecc-4602-9928-d0ce9f3a4d01",
      "execution_count": 13,
      "outputs": [
        {
          "output_type": "stream",
          "text": [
            "/usr/local/lib/python3.7/dist-packages/bs4/__init__.py:336: UserWarning: \"http://www.amazon.co.jp/gp/product/B0040NOWY8/ref=cm_cr_ryp_prd_ttl_sol_3\" looks like a URL. Beautiful Soup is not an HTTP client. You should probably use an HTTP client like requests to get the document behind the URL, and feed that document to Beautiful Soup.\n",
            "  ' that document to Beautiful Soup.' % decoded_markup\n"
          ],
          "name": "stderr"
        },
        {
          "output_type": "stream",
          "text": [
            "CPU times: user 2min 36s, sys: 2.42 s, total: 2min 39s\n",
            "Wall time: 2min 38s\n"
          ],
          "name": "stdout"
        }
      ]
    },
    {
      "cell_type": "markdown",
      "metadata": {
        "id": "5c735ac9-998f-4127-9c4a-2037ebdad6af"
      },
      "source": [
        "## word2vec"
      ],
      "id": "5c735ac9-998f-4127-9c4a-2037ebdad6af"
    },
    {
      "cell_type": "markdown",
      "metadata": {
        "id": "8998ca21-5bd5-499d-bfc3-53a3de8b6361"
      },
      "source": [
        "### 1. データセット作成\n",
        "- 各センテンス（wordのリスト）に対して、各単語(input word)ごとに, windowサイズ前後分の単語(output words)を、ペアで揃える"
      ],
      "id": "8998ca21-5bd5-499d-bfc3-53a3de8b6361"
    },
    {
      "cell_type": "code",
      "metadata": {
        "id": "63c77db8-3736-4f03-95c7-77556f68ee50"
      },
      "source": [
        "# 未知語、windowサイズの設定\n",
        "unk = '<UNK>'\n",
        "window = 5"
      ],
      "id": "63c77db8-3736-4f03-95c7-77556f68ee50",
      "execution_count": 14,
      "outputs": []
    },
    {
      "cell_type": "code",
      "metadata": {
        "colab": {
          "base_uri": "https://localhost:8080/"
        },
        "id": "eb9b0ec1-b5af-4841-aae4-11762514c28e",
        "outputId": "662d031b-305c-4aa9-ddbc-828c78b0223f"
      },
      "source": [
        "# 1つsentenceを取って、試しに作ってみる\n",
        "sentence = X[10]\n",
        "sentence"
      ],
      "id": "eb9b0ec1-b5af-4841-aae4-11762514c28e",
      "execution_count": 15,
      "outputs": [
        {
          "output_type": "execute_result",
          "data": {
            "text/plain": [
              "['無料', '範囲', '普通に', '潰し', 'もってこい', '飽き', 'ゲーム', 'Galaxy', 'イメージ']"
            ]
          },
          "metadata": {
            "tags": []
          },
          "execution_count": 15
        }
      ]
    },
    {
      "cell_type": "code",
      "metadata": {
        "colab": {
          "base_uri": "https://localhost:8080/"
        },
        "id": "135616df-00f9-47e7-a797-d7869b17c312",
        "outputId": "42c393b3-f9b1-49e9-a5bc-eba7847e17d3"
      },
      "source": [
        "i=4  # sentenceの文字番号\n",
        "input_word = sentence[i]\n",
        "left = sentence[max(i-window, 0): i]  # i番目のwordの前window分の単語\n",
        "left"
      ],
      "id": "135616df-00f9-47e7-a797-d7869b17c312",
      "execution_count": 16,
      "outputs": [
        {
          "output_type": "execute_result",
          "data": {
            "text/plain": [
              "['無料', '範囲', '普通に', '潰し']"
            ]
          },
          "metadata": {
            "tags": []
          },
          "execution_count": 16
        }
      ]
    },
    {
      "cell_type": "code",
      "metadata": {
        "colab": {
          "base_uri": "https://localhost:8080/"
        },
        "id": "ae3c41b7-6fe8-4a08-932b-4e8f2829541b",
        "outputId": "99fe9dc8-a28c-4738-9a3a-f7d6f2437af6"
      },
      "source": [
        "right = sentence[i+1: i+1+window]  # i番目のwordの後window分の単語\n",
        "right"
      ],
      "id": "ae3c41b7-6fe8-4a08-932b-4e8f2829541b",
      "execution_count": 17,
      "outputs": [
        {
          "output_type": "execute_result",
          "data": {
            "text/plain": [
              "['飽き', 'ゲーム', 'Galaxy', 'イメージ']"
            ]
          },
          "metadata": {
            "tags": []
          },
          "execution_count": 17
        }
      ]
    },
    {
      "cell_type": "code",
      "metadata": {
        "colab": {
          "base_uri": "https://localhost:8080/"
        },
        "id": "70c75e74-52ce-4770-97bd-46a09c7557e0",
        "outputId": "15f59fbd-774b-4675-9c91-3fb27e4c0380"
      },
      "source": [
        "print(input_word)\n",
        "# 着目wordの前後window分のword(window分ない場合に、unkで埋める)\n",
        "[unk for _ in range(window-len(left))] + left + right + [unk for _ in range(window-len(right))]"
      ],
      "id": "70c75e74-52ce-4770-97bd-46a09c7557e0",
      "execution_count": 18,
      "outputs": [
        {
          "output_type": "stream",
          "text": [
            "もってこい\n"
          ],
          "name": "stdout"
        },
        {
          "output_type": "execute_result",
          "data": {
            "text/plain": [
              "['<UNK>', '無料', '範囲', '普通に', '潰し', '飽き', 'ゲーム', 'Galaxy', 'イメージ', '<UNK>']"
            ]
          },
          "metadata": {
            "tags": []
          },
          "execution_count": 18
        }
      ]
    },
    {
      "cell_type": "code",
      "metadata": {
        "id": "092e7a19-7847-43b4-818b-fe03e10df1d3"
      },
      "source": [
        "# 上記を関数としてまとめる\n",
        "def skipgram(sentence, i):\n",
        "    iword = sentence[i]\n",
        "    left = sentence[max(i - window, 0): i]\n",
        "    right = sentence[i+1: i+1+window]\n",
        "    return iword, [unk for _ in range(window-len(left))] + left + right + [unk for _ in range(window-len(right))]"
      ],
      "id": "092e7a19-7847-43b4-818b-fe03e10df1d3",
      "execution_count": 19,
      "outputs": []
    },
    {
      "cell_type": "code",
      "metadata": {
        "id": "31760918-8eab-4e4d-a001-1e3f87a79697"
      },
      "source": [
        ""
      ],
      "id": "31760918-8eab-4e4d-a001-1e3f87a79697",
      "execution_count": 19,
      "outputs": []
    },
    {
      "cell_type": "code",
      "metadata": {
        "id": "ece11bd8-6cc5-4b5e-9b95-8effd05aaae8"
      },
      "source": [
        "word_list = []\n",
        "for sent in X:\n",
        "    word_list.extend(sent)"
      ],
      "id": "ece11bd8-6cc5-4b5e-9b95-8effd05aaae8",
      "execution_count": 20,
      "outputs": []
    },
    {
      "cell_type": "code",
      "metadata": {
        "id": "79a8fd61-33a2-4191-8990-6044734f8889"
      },
      "source": [
        "from collections import Counter\n",
        "word_count = Counter(word_list)"
      ],
      "id": "79a8fd61-33a2-4191-8990-6044734f8889",
      "execution_count": 21,
      "outputs": []
    },
    {
      "cell_type": "code",
      "metadata": {
        "id": "bjCkzqThHFar"
      },
      "source": [
        "max_vocab = 20000\n",
        "vocab = []\n",
        "for v, c in word_count.most_common(n=max_vocab):\n",
        "    vocab.append(v)\n",
        "vocab = set(vocab)"
      ],
      "id": "bjCkzqThHFar",
      "execution_count": 22,
      "outputs": []
    },
    {
      "cell_type": "code",
      "metadata": {
        "tags": [],
        "id": "e3e7504b-ea91-4baf-ab6b-26c588c57c0f"
      },
      "source": [
        "word2idx = {unk: 0}\n",
        "word2idx.update({x: i+1 for i, x in enumerate(vocab)})  # 0はunkで、eunumerateは0から始まるので\n",
        "idx2word = {v: k for k, v in word2idx.items()}"
      ],
      "id": "e3e7504b-ea91-4baf-ab6b-26c588c57c0f",
      "execution_count": 23,
      "outputs": []
    },
    {
      "cell_type": "code",
      "metadata": {
        "colab": {
          "base_uri": "https://localhost:8080/",
          "height": 151,
          "referenced_widgets": [
            "9820e4e628dc4e12828b749131a01417",
            "5f61939f77044f78912b515348043fe3",
            "e030768fec8a43babf834cbb8433412e",
            "ab32ebb639ff4ff68fab83f36fc8a258",
            "b3cc2fd3a1ab4820b6db397d845a00bd",
            "c6f250f146ae458dba3d3f53b79a72be",
            "6566bcd73b8b419f9d89b0f149928b13",
            "a1a5c53274ae4cc8b14c12a0373fdb2d"
          ]
        },
        "id": "ab41cfd9-dc64-4948-90b1-6e535b340467",
        "outputId": "9365862d-451c-412d-f197-a9c262a3a412"
      },
      "source": [
        "%%time\n",
        "data = []\n",
        "for sent in tqdm(X):\n",
        "    sent_limit = []\n",
        "    for word in sent:\n",
        "        if word in vocab:  # vocabがlistの場合、このif判定がめちゃめちゃ遅くなるので注意（そのため、setにしている）\n",
        "            sent_limit.append(word)\n",
        "        else:\n",
        "            sent_limit.append(unk)\n",
        "    for i in range(len(sent_limit)):\n",
        "        input_word, output_words = skipgram(sent_limit, i)\n",
        "        data.append((word2idx[input_word], np.array([word2idx[oword] for oword in output_words])))"
      ],
      "id": "ab41cfd9-dc64-4948-90b1-6e535b340467",
      "execution_count": 24,
      "outputs": [
        {
          "output_type": "stream",
          "text": [
            "/usr/local/lib/python3.7/dist-packages/ipykernel_launcher.py:2: TqdmDeprecationWarning: This function will be removed in tqdm==5.0.0\n",
            "Please use `tqdm.notebook.tqdm` instead of `tqdm.tqdm_notebook`\n",
            "  \n"
          ],
          "name": "stderr"
        },
        {
          "output_type": "display_data",
          "data": {
            "application/vnd.jupyter.widget-view+json": {
              "model_id": "9820e4e628dc4e12828b749131a01417",
              "version_minor": 0,
              "version_major": 2
            },
            "text/plain": [
              "HBox(children=(FloatProgress(value=0.0, max=262256.0), HTML(value='')))"
            ]
          },
          "metadata": {
            "tags": []
          }
        },
        {
          "output_type": "stream",
          "text": [
            "\n",
            "CPU times: user 53.5 s, sys: 1.4 s, total: 54.9 s\n",
            "Wall time: 55.2 s\n"
          ],
          "name": "stdout"
        }
      ]
    },
    {
      "cell_type": "code",
      "metadata": {
        "colab": {
          "base_uri": "https://localhost:8080/"
        },
        "id": "9ec2df2e-f91a-400f-8d75-f4608a98f6c4",
        "outputId": "37b4c54e-ab7b-4c31-ac37-44c938cdf2b3"
      },
      "source": [
        "data[0]"
      ],
      "id": "9ec2df2e-f91a-400f-8d75-f4608a98f6c4",
      "execution_count": 25,
      "outputs": [
        {
          "output_type": "execute_result",
          "data": {
            "text/plain": [
              "(2257, array([   0,    0,    0,    0,    0, 6359,    0, 8891, 4746,    0]))"
            ]
          },
          "metadata": {
            "tags": []
          },
          "execution_count": 25
        }
      ]
    },
    {
      "cell_type": "code",
      "metadata": {
        "id": "84256823-c737-446d-ac65-99a780c1b538"
      },
      "source": [
        "# 保存\n",
        "import pickle\n",
        "pickle.dump(word_count, open(os.path.join(SAVE_DIR, 'word_count.pkl'), 'wb'))\n",
        "pickle.dump(vocab, open(os.path.join(SAVE_DIR, 'vocab.pkl'), 'wb'))\n",
        "pickle.dump(word2idx, open(os.path.join(SAVE_DIR, 'word2idx.pkl'), 'wb'))\n",
        "pickle.dump(idx2word, open(os.path.join(SAVE_DIR, 'idx2word.pkl'), 'wb'))"
      ],
      "id": "84256823-c737-446d-ac65-99a780c1b538",
      "execution_count": 26,
      "outputs": []
    },
    {
      "cell_type": "markdown",
      "metadata": {
        "id": "1b1c3331-dbd3-4fdc-b2e2-e957893e960e"
      },
      "source": [
        "### 2. モデル"
      ],
      "id": "1b1c3331-dbd3-4fdc-b2e2-e957893e960e"
    },
    {
      "cell_type": "code",
      "metadata": {
        "colab": {
          "base_uri": "https://localhost:8080/"
        },
        "id": "ubK884xfVLdR",
        "outputId": "0d785bff-7645-4a47-fbd1-5a12d63537e6"
      },
      "source": [
        "device = 'cuda' if torch.cuda.is_available() else 'cpu'\n",
        "#device = 'cpu'\n",
        "print(device)"
      ],
      "id": "ubK884xfVLdR",
      "execution_count": 27,
      "outputs": [
        {
          "output_type": "stream",
          "text": [
            "cuda\n"
          ],
          "name": "stdout"
        }
      ]
    },
    {
      "cell_type": "code",
      "metadata": {
        "id": "af035b23-0e72-4857-946e-11f35dd48966"
      },
      "source": [
        "class Word2Vec(nn.Module):\n",
        "    \"\"\"\n",
        "    input_word, output_wordsを、それぞれEmbeddingでベクトルに変換\n",
        "    ベクトルの重みを学習パラメータとする\n",
        "    \"\"\"\n",
        "    def __init__(self, vocab_size=20000, embedding_size=300, padding_idx=0):\n",
        "        super(Word2Vec, self).__init__()\n",
        "        self.vocab_size = vocab_size\n",
        "        self.embedding_size = embedding_size\n",
        "        self.ivectors = nn.Embedding(self.vocab_size, self.embedding_size, padding_idx=padding_idx)\n",
        "        self.ovectors = nn.Embedding(self.vocab_size, self.embedding_size, padding_idx=padding_idx)\n",
        "        self.ivectors.weight = nn.Parameter(torch.cat([torch.zeros(1, self.embedding_size), torch.FloatTensor(self.vocab_size-1, self.embedding_size).uniform_(-0.5 / self.embedding_size, 0.5 / self.embedding_size)]))\n",
        "        self.ovectors.weight = nn.Parameter(torch.cat([torch.zeros(1, self.embedding_size), torch.FloatTensor(self.vocab_size-1, self.embedding_size).uniform_(-0.5 / self.embedding_size, 0.5 / self.embedding_size)]))\n",
        "        self.ivectors.weight.requires_grad = True\n",
        "        self.ovectors.weight.requires_grad = True\n",
        "\n",
        "    def forward(self, data):\n",
        "        return self.forward_i(data)\n",
        "\n",
        "    def forward_i(self, data):\n",
        "        v = torch.LongTensor(data).to(device)\n",
        "        return self.ivectors(v)\n",
        "\n",
        "    def forward_o(self, data):\n",
        "        v = torch.LongTensor(data).to(device)\n",
        "        return self.ovectors(v)"
      ],
      "id": "af035b23-0e72-4857-946e-11f35dd48966",
      "execution_count": 28,
      "outputs": []
    },
    {
      "cell_type": "code",
      "metadata": {
        "id": "0266d9a0-b295-4f7a-b1ad-799c7d27ae37"
      },
      "source": [
        "class SGNS(nn.Module):\n",
        "    \"\"\"\n",
        "    2値分類(positive_samplesとnegative_samplesの分類)の損失関数を設定\n",
        "    positive_samplesのolossと、negative_samplesのnlossの合計\n",
        "    negative_samplesは、単語の頻度分布の0.75乘からサンプリングしたものを使用\n",
        "    \"\"\"\n",
        "    def __init__(self, embedding, vocab_size=20000, n_negs=20, weights=None):\n",
        "        super(SGNS, self).__init__()\n",
        "        self.embedding = embedding\n",
        "        self.vocab_size = vocab_size\n",
        "        self.n_negs = n_negs  # 1つのpositive_sampleに対するnegative_sampleの数\n",
        "        self.weights = None\n",
        "        if weights is not None:\n",
        "            # 原論文だと、word_flequencyの0.75乘に設定\n",
        "            wf = np.power(weights, 0.75)\n",
        "            wf = wf / wf.sum()\n",
        "            self.weights = torch.FloatTensor(wf)\n",
        "\n",
        "    def forward(self, iword, owords):\n",
        "        batch_size = iword.size()[0]\n",
        "        context_size = len(owords)\n",
        "        if self.weights is not None:\n",
        "            nwords = torch.multinomial(self.weights, batch_size * context_size * self.n_negs, replacement=True).view(batch_size, -1)\n",
        "        else:\n",
        "            nwords = torch.FloatTensor(batch_size, context_size*self.n_negs).uniform_(0, self.vocab_size - 1).long()\n",
        "        ivectors = self.embedding.forward_i(iword).unsqueeze(2)\n",
        "        ovectors = self.embedding.forward_o(owords)\n",
        "        nvectors = self.embedding.forward_o(nwords).neg()  # .neg()で、-1倍\n",
        "        oloss = torch.bmm(ovectors, ivectors).squeeze().sigmoid().log().mean(1)\n",
        "        nloss = torch.bmm(nvectors, ivectors).squeeze().sigmoid().log().view(-1, context_size, self.n_negs).sum(2).mean(1)\n",
        "        return -(oloss + nloss).mean()"
      ],
      "id": "0266d9a0-b295-4f7a-b1ad-799c7d27ae37",
      "execution_count": 29,
      "outputs": []
    },
    {
      "cell_type": "code",
      "metadata": {
        "colab": {
          "base_uri": "https://localhost:8080/"
        },
        "id": "d0c5bf43-9c73-4e31-8d2f-b5f51861e579",
        "outputId": "b1125351-ba20-44c8-db29-7a5965c92e6b"
      },
      "source": [
        "# 単語分布の0.75乘\n",
        "word_flequency = np.array([word_count[idx2word[i]] for i in range(len(idx2word))])  # idx=0から順にwordカウントを入れていく\n",
        "word_flequency = np.power(word_flequency, 0.75)\n",
        "word_flequency = word_flequency / word_flequency.sum()\n",
        "print(word_flequency.sum())\n",
        "word_flequency"
      ],
      "id": "d0c5bf43-9c73-4e31-8d2f-b5f51861e579",
      "execution_count": 30,
      "outputs": [
        {
          "output_type": "stream",
          "text": [
            "1.0000000000000002\n"
          ],
          "name": "stdout"
        },
        {
          "output_type": "execute_result",
          "data": {
            "text/plain": [
              "array([0.00000000e+00, 1.20218153e-04, 4.21448542e-05, ...,\n",
              "       1.27212589e-05, 5.43866388e-05, 1.12960505e-04])"
            ]
          },
          "metadata": {
            "tags": []
          },
          "execution_count": 30
        }
      ]
    },
    {
      "cell_type": "code",
      "metadata": {
        "colab": {
          "base_uri": "https://localhost:8080/"
        },
        "id": "70133c88-21da-4c92-b571-30880f1f0683",
        "outputId": "5a46ca6d-8820-4cf6-a9fb-e18f839fefb9"
      },
      "source": [
        "weights = word_flequency\n",
        "batch_size = 100\n",
        "context_size = 5  # 隣接するwordの数\n",
        "n_negs = 20\n",
        "\n",
        "# negative samples:\n",
        "# torch.multinomial\n",
        "# inputの重みに対応する\"多項分布\"から, num_samples個のindexを値に持つtensorを返す\n",
        "# 1つのinputに対し、positive_samplesはcontext_size分ある\n",
        "# negative_samplesは、各positive_sampleに対し、n_negs個あるので、batch_size * context_size * n_negsとする\n",
        "nwords = torch.multinomial(input=torch.FloatTensor(weights), num_samples=batch_size*context_size*n_negs, replacement=True).view(batch_size, -1)\n",
        "print(nwords.shape)"
      ],
      "id": "70133c88-21da-4c92-b571-30880f1f0683",
      "execution_count": 31,
      "outputs": [
        {
          "output_type": "stream",
          "text": [
            "torch.Size([100, 100])\n"
          ],
          "name": "stdout"
        }
      ]
    },
    {
      "cell_type": "markdown",
      "metadata": {
        "id": "25bf27c6-5c4c-495b-a968-d91072c78f9a"
      },
      "source": [
        "### 3. 学習"
      ],
      "id": "25bf27c6-5c4c-495b-a968-d91072c78f9a"
    },
    {
      "cell_type": "code",
      "metadata": {
        "id": "63a3f700-cb9c-4273-8466-4041f1719f7c"
      },
      "source": [
        "vocab_size = len(idx2word)\n",
        "embedding_size = 128\n",
        "weights = word_flequency\n",
        "n_negs = 5\n",
        "batch_size = 128\n",
        "\n",
        "model = Word2Vec(vocab_size=vocab_size, embedding_size=embedding_size).to(device)\n",
        "sgns = SGNS(embedding=model, vocab_size=vocab_size, n_negs=n_negs, weights=weights).to(device)"
      ],
      "id": "63a3f700-cb9c-4273-8466-4041f1719f7c",
      "execution_count": 32,
      "outputs": []
    },
    {
      "cell_type": "code",
      "metadata": {
        "id": "a1334647-67b8-4556-9727-653c22da68ca"
      },
      "source": [
        "dataloader = DataLoader(data, batch_size=batch_size, shuffle=True)\n",
        "optimizer = Adam(sgns.parameters())"
      ],
      "id": "a1334647-67b8-4556-9727-653c22da68ca",
      "execution_count": 33,
      "outputs": []
    },
    {
      "cell_type": "code",
      "metadata": {
        "colab": {
          "base_uri": "https://localhost:8080/",
          "height": 134,
          "referenced_widgets": [
            "3506e391c81a44f1ab01a04a06e2ecee",
            "64fbd4b97f144903ae765f4469a9cf73",
            "b9a18b68b69d43d492ac7e70c98f1685",
            "458f2114aee04614baea14961135f266",
            "7f06e37fe8ef403eb37ed0faa6bbc43f",
            "9492720c6d5b467ea738f4ac9f226ded",
            "cdeb541446484959b55c4478d85716b3",
            "6160b50cf82748a5ac519659cb0361e8"
          ]
        },
        "id": "9f047996-e9e7-440a-907e-494c28817d06",
        "outputId": "21bed217-2cef-40eb-eeb6-1d4c12e3e3a9"
      },
      "source": [
        "# 確認\n",
        "for iword, owords in tqdm(dataloader):\n",
        "    print(iword.size())\n",
        "    print(owords.size())\n",
        "    break"
      ],
      "id": "9f047996-e9e7-440a-907e-494c28817d06",
      "execution_count": 34,
      "outputs": [
        {
          "output_type": "stream",
          "text": [
            "/usr/local/lib/python3.7/dist-packages/ipykernel_launcher.py:2: TqdmDeprecationWarning: This function will be removed in tqdm==5.0.0\n",
            "Please use `tqdm.notebook.tqdm` instead of `tqdm.tqdm_notebook`\n",
            "  \n"
          ],
          "name": "stderr"
        },
        {
          "output_type": "display_data",
          "data": {
            "application/vnd.jupyter.widget-view+json": {
              "model_id": "3506e391c81a44f1ab01a04a06e2ecee",
              "version_minor": 0,
              "version_major": 2
            },
            "text/plain": [
              "HBox(children=(FloatProgress(value=0.0, max=74791.0), HTML(value='')))"
            ]
          },
          "metadata": {
            "tags": []
          }
        },
        {
          "output_type": "stream",
          "text": [
            "torch.Size([128])\n",
            "torch.Size([128, 10])\n"
          ],
          "name": "stdout"
        }
      ]
    },
    {
      "cell_type": "code",
      "metadata": {
        "colab": {
          "base_uri": "https://localhost:8080/",
          "height": 398,
          "referenced_widgets": [
            "4062426b289042669bcf31a838ec1295",
            "3553959adf3e449a875ba70f011c433c",
            "0cda92996f2d42399634b4954fd2ec34",
            "eb73846f347a42eb9ad3d8175ab41ade",
            "ae612e2384164e98a590cb42a5d5b926",
            "3197c81ce72c478c9a1b09a9587e5811",
            "5eb9527a6f7144b081b97521ab4faa11",
            "89402682b984490db3960359acd877be",
            "b991e5a634374ce6b10e2187e98f8f54",
            "2e9fc66ab78948bc9ab4717490e09dc2",
            "9667b9e460304e1c9203ef74f857c694",
            "1291d11276be4ba5bab4f2b5afa39bd3",
            "01dba64485834cd9b88b7c44e957d2bc",
            "28e19bc110ec4a1aafbc26a5af8fff1c",
            "688558b6f5f2411b80a7fe151800f8e2",
            "95ba89e82b7e4fb4ba91097f8d28da79",
            "97f92084e8304ccca721ced2156f07f9",
            "9b91f6a9f1b949a088af793970ae9e7d",
            "320d646e03ec446b8a96b11f49e9a9a4",
            "0115873581ec4fc888fd351db08a3cec",
            "7e7231900edb4bbfbab6cc5b3e7b695a",
            "b0e59e5a14514ac2a18a387c8e239b1e",
            "2f9b432e4d534687a5d1e36d22665618",
            "21f5f43f5e4e4ffc9f1561bcab64e71a",
            "9b60f6e1d80c49639940701f8d22b819",
            "6ae93ee91fe346299b743fd05bf9f40e",
            "1fe91cd4a5d84060b49e177ef95bbbee",
            "d426b0ea9db841459c4ceb546964e97f",
            "24fa371cddf44d839d6e4f59480c9886",
            "3cd580e22bec4e3394e1ba56b7361a20",
            "cc413f6577124650aa701991874830ba",
            "1a3eaf5b6ed04f0b8442ab82082b7aab",
            "872f6ecb0dd14536bb5cd8d3b3404d44",
            "45ab6160687a4ea7aeed3791414136bd",
            "ff37964610714b07abff0713be826a56",
            "304f97ae04e24040922ab19032b94a8b",
            "11bba186e31746eeaba144f58404a14b",
            "f62411549ed14d4f9b8efbfd6ec2ea3c",
            "e7514fbcdd4340638ca80d145119cc9d",
            "17327198daed49bda2de21b980214f38"
          ]
        },
        "id": "7da39217-cc73-4ecd-9e77-703693c41a18",
        "outputId": "72350239-6f27-4168-f769-e825f4f43aa1"
      },
      "source": [
        "EPOCHS= 5\n",
        "loss_list = []\n",
        "for epoch in range(EPOCHS):\n",
        "    print(f'EPOCH {epoch+1}')\n",
        "    for iword, owords in tqdm(dataloader):\n",
        "        loss = sgns(iword, owords)\n",
        "        optimizer.zero_grad()\n",
        "        loss.backward()\n",
        "        optimizer.step()\n",
        "        loss_list.append(loss.item())"
      ],
      "id": "7da39217-cc73-4ecd-9e77-703693c41a18",
      "execution_count": 35,
      "outputs": [
        {
          "output_type": "stream",
          "text": [
            "EPOCH 1\n"
          ],
          "name": "stdout"
        },
        {
          "output_type": "stream",
          "text": [
            "/usr/local/lib/python3.7/dist-packages/ipykernel_launcher.py:5: TqdmDeprecationWarning: This function will be removed in tqdm==5.0.0\n",
            "Please use `tqdm.notebook.tqdm` instead of `tqdm.tqdm_notebook`\n",
            "  \"\"\"\n"
          ],
          "name": "stderr"
        },
        {
          "output_type": "display_data",
          "data": {
            "application/vnd.jupyter.widget-view+json": {
              "model_id": "4062426b289042669bcf31a838ec1295",
              "version_major": 2,
              "version_minor": 0
            },
            "text/plain": [
              "HBox(children=(FloatProgress(value=0.0, max=74791.0), HTML(value='')))"
            ]
          },
          "metadata": {
            "tags": []
          }
        },
        {
          "output_type": "stream",
          "text": [
            "\n",
            "EPOCH 2\n"
          ],
          "name": "stdout"
        },
        {
          "output_type": "display_data",
          "data": {
            "application/vnd.jupyter.widget-view+json": {
              "model_id": "b991e5a634374ce6b10e2187e98f8f54",
              "version_major": 2,
              "version_minor": 0
            },
            "text/plain": [
              "HBox(children=(FloatProgress(value=0.0, max=74791.0), HTML(value='')))"
            ]
          },
          "metadata": {
            "tags": []
          }
        },
        {
          "output_type": "stream",
          "text": [
            "\n",
            "EPOCH 3\n"
          ],
          "name": "stdout"
        },
        {
          "output_type": "display_data",
          "data": {
            "application/vnd.jupyter.widget-view+json": {
              "model_id": "97f92084e8304ccca721ced2156f07f9",
              "version_major": 2,
              "version_minor": 0
            },
            "text/plain": [
              "HBox(children=(FloatProgress(value=0.0, max=74791.0), HTML(value='')))"
            ]
          },
          "metadata": {
            "tags": []
          }
        },
        {
          "output_type": "stream",
          "text": [
            "\n",
            "EPOCH 4\n"
          ],
          "name": "stdout"
        },
        {
          "output_type": "display_data",
          "data": {
            "application/vnd.jupyter.widget-view+json": {
              "model_id": "9b60f6e1d80c49639940701f8d22b819",
              "version_major": 2,
              "version_minor": 0
            },
            "text/plain": [
              "HBox(children=(FloatProgress(value=0.0, max=74791.0), HTML(value='')))"
            ]
          },
          "metadata": {
            "tags": []
          }
        },
        {
          "output_type": "stream",
          "text": [
            "\n",
            "EPOCH 5\n"
          ],
          "name": "stdout"
        },
        {
          "output_type": "display_data",
          "data": {
            "application/vnd.jupyter.widget-view+json": {
              "model_id": "872f6ecb0dd14536bb5cd8d3b3404d44",
              "version_minor": 0,
              "version_major": 2
            },
            "text/plain": [
              "HBox(children=(FloatProgress(value=0.0, max=74791.0), HTML(value='')))"
            ]
          },
          "metadata": {
            "tags": []
          }
        },
        {
          "output_type": "stream",
          "text": [
            "\n"
          ],
          "name": "stdout"
        }
      ]
    },
    {
      "cell_type": "code",
      "metadata": {
        "id": "ccef5410-b60a-4e6b-aad0-2382cfc46fbd"
      },
      "source": [
        "torch.save(sgns.state_dict(), os.path.join(SAVE_DIR, 'sgns.pt'))\n",
        "torch.save(model.state_dict(), os.path.join(SAVE_DIR, 'word2vec.pt'))\n",
        "torch.save(optimizer.state_dict(), os.path.join(SAVE_DIR, 'optimizer.pt'))"
      ],
      "id": "ccef5410-b60a-4e6b-aad0-2382cfc46fbd",
      "execution_count": 36,
      "outputs": []
    },
    {
      "cell_type": "code",
      "metadata": {
        "id": "693b7d97-4ca4-450a-95c7-233d511aa170"
      },
      "source": [
        ""
      ],
      "id": "693b7d97-4ca4-450a-95c7-233d511aa170",
      "execution_count": 36,
      "outputs": []
    }
  ]
}